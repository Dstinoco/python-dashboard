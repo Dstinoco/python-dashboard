{
 "cells": [
  {
   "cell_type": "code",
   "execution_count": 10,
   "metadata": {},
   "outputs": [],
   "source": [
    "from plotly.subplots import make_subplots\n",
    "import pandas as pd\n",
    "import plotly.express as px"
   ]
  },
  {
   "cell_type": "code",
   "execution_count": 3,
   "metadata": {},
   "outputs": [],
   "source": [
    "df = pd.read_csv('https://raw.githubusercontent.com/plotly/datasets/master/gapminder_unfiltered.csv')"
   ]
  },
  {
   "cell_type": "code",
   "execution_count": 42,
   "metadata": {},
   "outputs": [
    {
     "data": {
      "text/html": [
       "<div>\n",
       "<style scoped>\n",
       "    .dataframe tbody tr th:only-of-type {\n",
       "        vertical-align: middle;\n",
       "    }\n",
       "\n",
       "    .dataframe tbody tr th {\n",
       "        vertical-align: top;\n",
       "    }\n",
       "\n",
       "    .dataframe thead th {\n",
       "        text-align: right;\n",
       "    }\n",
       "</style>\n",
       "<table border=\"1\" class=\"dataframe\">\n",
       "  <thead>\n",
       "    <tr style=\"text-align: right;\">\n",
       "      <th></th>\n",
       "      <th>Invoice ID</th>\n",
       "      <th>Branch</th>\n",
       "      <th>City</th>\n",
       "      <th>Customer type</th>\n",
       "      <th>Gender</th>\n",
       "      <th>Product line</th>\n",
       "      <th>Unit price</th>\n",
       "      <th>Quantity</th>\n",
       "      <th>Tax 5%</th>\n",
       "      <th>Total</th>\n",
       "      <th>Date</th>\n",
       "      <th>Time</th>\n",
       "      <th>Payment</th>\n",
       "      <th>cogs</th>\n",
       "      <th>gross margin percentage</th>\n",
       "      <th>gross income</th>\n",
       "      <th>Rating</th>\n",
       "    </tr>\n",
       "  </thead>\n",
       "  <tbody>\n",
       "    <tr>\n",
       "      <th>0</th>\n",
       "      <td>750-67-8428</td>\n",
       "      <td>A</td>\n",
       "      <td>Yangon</td>\n",
       "      <td>Member</td>\n",
       "      <td>Female</td>\n",
       "      <td>Health and beauty</td>\n",
       "      <td>74.69</td>\n",
       "      <td>7</td>\n",
       "      <td>26.1415</td>\n",
       "      <td>548.9715</td>\n",
       "      <td>1/5/2019</td>\n",
       "      <td>13:08</td>\n",
       "      <td>Ewallet</td>\n",
       "      <td>522.83</td>\n",
       "      <td>4.761905</td>\n",
       "      <td>26.1415</td>\n",
       "      <td>9.1</td>\n",
       "    </tr>\n",
       "    <tr>\n",
       "      <th>1</th>\n",
       "      <td>226-31-3081</td>\n",
       "      <td>C</td>\n",
       "      <td>Naypyitaw</td>\n",
       "      <td>Normal</td>\n",
       "      <td>Female</td>\n",
       "      <td>Electronic accessories</td>\n",
       "      <td>15.28</td>\n",
       "      <td>5</td>\n",
       "      <td>3.8200</td>\n",
       "      <td>80.2200</td>\n",
       "      <td>3/8/2019</td>\n",
       "      <td>10:29</td>\n",
       "      <td>Cash</td>\n",
       "      <td>76.40</td>\n",
       "      <td>4.761905</td>\n",
       "      <td>3.8200</td>\n",
       "      <td>9.6</td>\n",
       "    </tr>\n",
       "    <tr>\n",
       "      <th>2</th>\n",
       "      <td>631-41-3108</td>\n",
       "      <td>A</td>\n",
       "      <td>Yangon</td>\n",
       "      <td>Normal</td>\n",
       "      <td>Male</td>\n",
       "      <td>Home and lifestyle</td>\n",
       "      <td>46.33</td>\n",
       "      <td>7</td>\n",
       "      <td>16.2155</td>\n",
       "      <td>340.5255</td>\n",
       "      <td>3/3/2019</td>\n",
       "      <td>13:23</td>\n",
       "      <td>Credit card</td>\n",
       "      <td>324.31</td>\n",
       "      <td>4.761905</td>\n",
       "      <td>16.2155</td>\n",
       "      <td>7.4</td>\n",
       "    </tr>\n",
       "    <tr>\n",
       "      <th>3</th>\n",
       "      <td>123-19-1176</td>\n",
       "      <td>A</td>\n",
       "      <td>Yangon</td>\n",
       "      <td>Member</td>\n",
       "      <td>Male</td>\n",
       "      <td>Health and beauty</td>\n",
       "      <td>58.22</td>\n",
       "      <td>8</td>\n",
       "      <td>23.2880</td>\n",
       "      <td>489.0480</td>\n",
       "      <td>1/27/2019</td>\n",
       "      <td>20:33</td>\n",
       "      <td>Ewallet</td>\n",
       "      <td>465.76</td>\n",
       "      <td>4.761905</td>\n",
       "      <td>23.2880</td>\n",
       "      <td>8.4</td>\n",
       "    </tr>\n",
       "    <tr>\n",
       "      <th>4</th>\n",
       "      <td>373-73-7910</td>\n",
       "      <td>A</td>\n",
       "      <td>Yangon</td>\n",
       "      <td>Normal</td>\n",
       "      <td>Male</td>\n",
       "      <td>Sports and travel</td>\n",
       "      <td>86.31</td>\n",
       "      <td>7</td>\n",
       "      <td>30.2085</td>\n",
       "      <td>634.3785</td>\n",
       "      <td>2/8/2019</td>\n",
       "      <td>10:37</td>\n",
       "      <td>Ewallet</td>\n",
       "      <td>604.17</td>\n",
       "      <td>4.761905</td>\n",
       "      <td>30.2085</td>\n",
       "      <td>5.3</td>\n",
       "    </tr>\n",
       "  </tbody>\n",
       "</table>\n",
       "</div>"
      ],
      "text/plain": [
       "    Invoice ID Branch       City Customer type  Gender  \\\n",
       "0  750-67-8428      A     Yangon        Member  Female   \n",
       "1  226-31-3081      C  Naypyitaw        Normal  Female   \n",
       "2  631-41-3108      A     Yangon        Normal    Male   \n",
       "3  123-19-1176      A     Yangon        Member    Male   \n",
       "4  373-73-7910      A     Yangon        Normal    Male   \n",
       "\n",
       "             Product line  Unit price  Quantity   Tax 5%     Total       Date  \\\n",
       "0       Health and beauty       74.69         7  26.1415  548.9715   1/5/2019   \n",
       "1  Electronic accessories       15.28         5   3.8200   80.2200   3/8/2019   \n",
       "2      Home and lifestyle       46.33         7  16.2155  340.5255   3/3/2019   \n",
       "3       Health and beauty       58.22         8  23.2880  489.0480  1/27/2019   \n",
       "4       Sports and travel       86.31         7  30.2085  634.3785   2/8/2019   \n",
       "\n",
       "    Time      Payment    cogs  gross margin percentage  gross income  Rating  \n",
       "0  13:08      Ewallet  522.83                 4.761905       26.1415     9.1  \n",
       "1  10:29         Cash   76.40                 4.761905        3.8200     9.6  \n",
       "2  13:23  Credit card  324.31                 4.761905       16.2155     7.4  \n",
       "3  20:33      Ewallet  465.76                 4.761905       23.2880     8.4  \n",
       "4  10:37      Ewallet  604.17                 4.761905       30.2085     5.3  "
      ]
     },
     "metadata": {},
     "output_type": "display_data"
    }
   ],
   "source": [
    "df = pd.read_csv(\"supermarket_sales.csv\")\n",
    "display(df.head())"
   ]
  },
  {
   "cell_type": "code",
   "execution_count": 41,
   "metadata": {},
   "outputs": [
    {
     "data": {
      "text/html": [
       "<div>\n",
       "<style scoped>\n",
       "    .dataframe tbody tr th:only-of-type {\n",
       "        vertical-align: middle;\n",
       "    }\n",
       "\n",
       "    .dataframe tbody tr th {\n",
       "        vertical-align: top;\n",
       "    }\n",
       "\n",
       "    .dataframe thead th {\n",
       "        text-align: right;\n",
       "    }\n",
       "</style>\n",
       "<table border=\"1\" class=\"dataframe\">\n",
       "  <thead>\n",
       "    <tr style=\"text-align: right;\">\n",
       "      <th></th>\n",
       "      <th>Payment</th>\n",
       "      <th>gross income</th>\n",
       "      <th>Rating</th>\n",
       "    </tr>\n",
       "  </thead>\n",
       "  <tbody>\n",
       "    <tr>\n",
       "      <th>0</th>\n",
       "      <td>Cash</td>\n",
       "      <td>5343.170</td>\n",
       "      <td>2397.7</td>\n",
       "    </tr>\n",
       "    <tr>\n",
       "      <th>1</th>\n",
       "      <td>Credit card</td>\n",
       "      <td>4798.432</td>\n",
       "      <td>2178.0</td>\n",
       "    </tr>\n",
       "    <tr>\n",
       "      <th>2</th>\n",
       "      <td>Ewallet</td>\n",
       "      <td>5237.767</td>\n",
       "      <td>2397.0</td>\n",
       "    </tr>\n",
       "  </tbody>\n",
       "</table>\n",
       "</div>"
      ],
      "text/plain": [
       "       Payment  gross income  Rating\n",
       "0         Cash      5343.170  2397.7\n",
       "1  Credit card      4798.432  2178.0\n",
       "2      Ewallet      5237.767  2397.0"
      ]
     },
     "execution_count": 41,
     "metadata": {},
     "output_type": "execute_result"
    }
   ],
   "source": [
    "df.groupby('Payment')[['gross income', 'Rating']].sum().reset_index()"
   ]
  },
  {
   "cell_type": "code",
   "execution_count": 15,
   "metadata": {},
   "outputs": [
    {
     "name": "stdout",
     "output_type": "stream",
     "text": [
      "['Yangon' 'Naypyitaw' 'Mandalay']\n"
     ]
    }
   ],
   "source": [
    "filto_city = df['City'].unique()\n",
    "print(filto_city)"
   ]
  },
  {
   "cell_type": "code",
   "execution_count": 9,
   "metadata": {},
   "outputs": [
    {
     "data": {
      "text/plain": [
       "Index(['Yangon', 'Mandalay', 'Naypyitaw'], dtype='object', name='City')"
      ]
     },
     "execution_count": 9,
     "metadata": {},
     "output_type": "execute_result"
    }
   ],
   "source": [
    "df[\"City\"].value_counts().index"
   ]
  },
  {
   "cell_type": "code",
   "execution_count": 18,
   "metadata": {},
   "outputs": [
    {
     "ename": "KeyError",
     "evalue": "('City', 'gross income', 'Rating')",
     "output_type": "error",
     "traceback": [
      "\u001b[1;31m---------------------------------------------------------------------------\u001b[0m",
      "\u001b[1;31mKeyError\u001b[0m                                  Traceback (most recent call last)",
      "File \u001b[1;32mc:\\Users\\Douglas Tinoco\\Documents\\Programacao\\python-dashboard\\venv\\Lib\\site-packages\\pandas\\core\\indexes\\base.py:3791\u001b[0m, in \u001b[0;36mIndex.get_loc\u001b[1;34m(self, key)\u001b[0m\n\u001b[0;32m   3790\u001b[0m \u001b[38;5;28;01mtry\u001b[39;00m:\n\u001b[1;32m-> 3791\u001b[0m     \u001b[38;5;28;01mreturn\u001b[39;00m \u001b[38;5;28;43mself\u001b[39;49m\u001b[38;5;241;43m.\u001b[39;49m\u001b[43m_engine\u001b[49m\u001b[38;5;241;43m.\u001b[39;49m\u001b[43mget_loc\u001b[49m\u001b[43m(\u001b[49m\u001b[43mcasted_key\u001b[49m\u001b[43m)\u001b[49m\n\u001b[0;32m   3792\u001b[0m \u001b[38;5;28;01mexcept\u001b[39;00m \u001b[38;5;167;01mKeyError\u001b[39;00m \u001b[38;5;28;01mas\u001b[39;00m err:\n",
      "File \u001b[1;32mindex.pyx:152\u001b[0m, in \u001b[0;36mpandas._libs.index.IndexEngine.get_loc\u001b[1;34m()\u001b[0m\n",
      "File \u001b[1;32mindex.pyx:181\u001b[0m, in \u001b[0;36mpandas._libs.index.IndexEngine.get_loc\u001b[1;34m()\u001b[0m\n",
      "File \u001b[1;32mpandas\\_libs\\hashtable_class_helper.pxi:7080\u001b[0m, in \u001b[0;36mpandas._libs.hashtable.PyObjectHashTable.get_item\u001b[1;34m()\u001b[0m\n",
      "File \u001b[1;32mpandas\\_libs\\hashtable_class_helper.pxi:7088\u001b[0m, in \u001b[0;36mpandas._libs.hashtable.PyObjectHashTable.get_item\u001b[1;34m()\u001b[0m\n",
      "\u001b[1;31mKeyError\u001b[0m: ('City', 'gross income', 'Rating')",
      "\nThe above exception was the direct cause of the following exception:\n",
      "\u001b[1;31mKeyError\u001b[0m                                  Traceback (most recent call last)",
      "Cell \u001b[1;32mIn[18], line 1\u001b[0m\n\u001b[1;32m----> 1\u001b[0m df_city \u001b[38;5;241m=\u001b[39m df[\u001b[43mdf\u001b[49m\u001b[43m[\u001b[49m\u001b[38;5;124;43m'\u001b[39;49m\u001b[38;5;124;43mCity\u001b[39;49m\u001b[38;5;124;43m'\u001b[39;49m\u001b[43m,\u001b[49m\u001b[43m \u001b[49m\u001b[38;5;124;43m'\u001b[39;49m\u001b[38;5;124;43mgross income\u001b[39;49m\u001b[38;5;124;43m'\u001b[39;49m\u001b[43m,\u001b[49m\u001b[43m \u001b[49m\u001b[38;5;124;43m'\u001b[39;49m\u001b[38;5;124;43mRating\u001b[39;49m\u001b[38;5;124;43m'\u001b[39;49m\u001b[43m]\u001b[49m]\n\u001b[0;32m      2\u001b[0m df_city\u001b[38;5;241m.\u001b[39mhead()\n",
      "File \u001b[1;32mc:\\Users\\Douglas Tinoco\\Documents\\Programacao\\python-dashboard\\venv\\Lib\\site-packages\\pandas\\core\\frame.py:3893\u001b[0m, in \u001b[0;36mDataFrame.__getitem__\u001b[1;34m(self, key)\u001b[0m\n\u001b[0;32m   3891\u001b[0m \u001b[38;5;28;01mif\u001b[39;00m \u001b[38;5;28mself\u001b[39m\u001b[38;5;241m.\u001b[39mcolumns\u001b[38;5;241m.\u001b[39mnlevels \u001b[38;5;241m>\u001b[39m \u001b[38;5;241m1\u001b[39m:\n\u001b[0;32m   3892\u001b[0m     \u001b[38;5;28;01mreturn\u001b[39;00m \u001b[38;5;28mself\u001b[39m\u001b[38;5;241m.\u001b[39m_getitem_multilevel(key)\n\u001b[1;32m-> 3893\u001b[0m indexer \u001b[38;5;241m=\u001b[39m \u001b[38;5;28;43mself\u001b[39;49m\u001b[38;5;241;43m.\u001b[39;49m\u001b[43mcolumns\u001b[49m\u001b[38;5;241;43m.\u001b[39;49m\u001b[43mget_loc\u001b[49m\u001b[43m(\u001b[49m\u001b[43mkey\u001b[49m\u001b[43m)\u001b[49m\n\u001b[0;32m   3894\u001b[0m \u001b[38;5;28;01mif\u001b[39;00m is_integer(indexer):\n\u001b[0;32m   3895\u001b[0m     indexer \u001b[38;5;241m=\u001b[39m [indexer]\n",
      "File \u001b[1;32mc:\\Users\\Douglas Tinoco\\Documents\\Programacao\\python-dashboard\\venv\\Lib\\site-packages\\pandas\\core\\indexes\\base.py:3798\u001b[0m, in \u001b[0;36mIndex.get_loc\u001b[1;34m(self, key)\u001b[0m\n\u001b[0;32m   3793\u001b[0m     \u001b[38;5;28;01mif\u001b[39;00m \u001b[38;5;28misinstance\u001b[39m(casted_key, \u001b[38;5;28mslice\u001b[39m) \u001b[38;5;129;01mor\u001b[39;00m (\n\u001b[0;32m   3794\u001b[0m         \u001b[38;5;28misinstance\u001b[39m(casted_key, abc\u001b[38;5;241m.\u001b[39mIterable)\n\u001b[0;32m   3795\u001b[0m         \u001b[38;5;129;01mand\u001b[39;00m \u001b[38;5;28many\u001b[39m(\u001b[38;5;28misinstance\u001b[39m(x, \u001b[38;5;28mslice\u001b[39m) \u001b[38;5;28;01mfor\u001b[39;00m x \u001b[38;5;129;01min\u001b[39;00m casted_key)\n\u001b[0;32m   3796\u001b[0m     ):\n\u001b[0;32m   3797\u001b[0m         \u001b[38;5;28;01mraise\u001b[39;00m InvalidIndexError(key)\n\u001b[1;32m-> 3798\u001b[0m     \u001b[38;5;28;01mraise\u001b[39;00m \u001b[38;5;167;01mKeyError\u001b[39;00m(key) \u001b[38;5;28;01mfrom\u001b[39;00m \u001b[38;5;21;01merr\u001b[39;00m\n\u001b[0;32m   3799\u001b[0m \u001b[38;5;28;01mexcept\u001b[39;00m \u001b[38;5;167;01mTypeError\u001b[39;00m:\n\u001b[0;32m   3800\u001b[0m     \u001b[38;5;66;03m# If we have a listlike key, _check_indexing_error will raise\u001b[39;00m\n\u001b[0;32m   3801\u001b[0m     \u001b[38;5;66;03m#  InvalidIndexError. Otherwise we fall through and re-raise\u001b[39;00m\n\u001b[0;32m   3802\u001b[0m     \u001b[38;5;66;03m#  the TypeError.\u001b[39;00m\n\u001b[0;32m   3803\u001b[0m     \u001b[38;5;28mself\u001b[39m\u001b[38;5;241m.\u001b[39m_check_indexing_error(key)\n",
      "\u001b[1;31mKeyError\u001b[0m: ('City', 'gross income', 'Rating')"
     ]
    }
   ],
   "source": [
    "df_city = df[df['City', 'gross income', 'Rating']]\n",
    "df_city.head()"
   ]
  },
  {
   "cell_type": "code",
   "execution_count": 30,
   "metadata": {},
   "outputs": [],
   "source": [
    "df_city = df[['City', 'gross income', 'Rating']]"
   ]
  },
  {
   "cell_type": "code",
   "execution_count": 36,
   "metadata": {},
   "outputs": [
    {
     "data": {
      "text/html": [
       "<div>\n",
       "<style scoped>\n",
       "    .dataframe tbody tr th:only-of-type {\n",
       "        vertical-align: middle;\n",
       "    }\n",
       "\n",
       "    .dataframe tbody tr th {\n",
       "        vertical-align: top;\n",
       "    }\n",
       "\n",
       "    .dataframe thead th {\n",
       "        text-align: right;\n",
       "    }\n",
       "</style>\n",
       "<table border=\"1\" class=\"dataframe\">\n",
       "  <thead>\n",
       "    <tr style=\"text-align: right;\">\n",
       "      <th></th>\n",
       "      <th>City</th>\n",
       "      <th>gross income</th>\n",
       "      <th>Rating</th>\n",
       "    </tr>\n",
       "  </thead>\n",
       "  <tbody>\n",
       "    <tr>\n",
       "      <th>0</th>\n",
       "      <td>Mandalay</td>\n",
       "      <td>5057.0320</td>\n",
       "      <td>2263.6</td>\n",
       "    </tr>\n",
       "    <tr>\n",
       "      <th>1</th>\n",
       "      <td>Naypyitaw</td>\n",
       "      <td>5265.1765</td>\n",
       "      <td>2319.9</td>\n",
       "    </tr>\n",
       "    <tr>\n",
       "      <th>2</th>\n",
       "      <td>Yangon</td>\n",
       "      <td>5057.1605</td>\n",
       "      <td>2389.2</td>\n",
       "    </tr>\n",
       "  </tbody>\n",
       "</table>\n",
       "</div>"
      ],
      "text/plain": [
       "        City  gross income  Rating\n",
       "0   Mandalay     5057.0320  2263.6\n",
       "1  Naypyitaw     5265.1765  2319.9\n",
       "2     Yangon     5057.1605  2389.2"
      ]
     },
     "execution_count": 36,
     "metadata": {},
     "output_type": "execute_result"
    }
   ],
   "source": [
    "df_city.groupby('City')[['gross income', 'Rating']].sum().reset_index()"
   ]
  },
  {
   "cell_type": "code",
   "execution_count": 38,
   "metadata": {},
   "outputs": [
    {
     "ename": "ValueError",
     "evalue": "Mime type rendering requires nbformat>=4.2.0 but it is not installed",
     "output_type": "error",
     "traceback": [
      "\u001b[1;31m---------------------------------------------------------------------------\u001b[0m",
      "\u001b[1;31mValueError\u001b[0m                                Traceback (most recent call last)",
      "File \u001b[1;32mc:\\Users\\Douglas Tinoco\\Documents\\Programacao\\python-dashboard\\venv\\Lib\\site-packages\\IPython\\core\\formatters.py:922\u001b[0m, in \u001b[0;36mIPythonDisplayFormatter.__call__\u001b[1;34m(self, obj)\u001b[0m\n\u001b[0;32m    920\u001b[0m method \u001b[38;5;241m=\u001b[39m get_real_method(obj, \u001b[38;5;28mself\u001b[39m\u001b[38;5;241m.\u001b[39mprint_method)\n\u001b[0;32m    921\u001b[0m \u001b[38;5;28;01mif\u001b[39;00m method \u001b[38;5;129;01mis\u001b[39;00m \u001b[38;5;129;01mnot\u001b[39;00m \u001b[38;5;28;01mNone\u001b[39;00m:\n\u001b[1;32m--> 922\u001b[0m     \u001b[43mmethod\u001b[49m\u001b[43m(\u001b[49m\u001b[43m)\u001b[49m\n\u001b[0;32m    923\u001b[0m     \u001b[38;5;28;01mreturn\u001b[39;00m \u001b[38;5;28;01mTrue\u001b[39;00m\n",
      "File \u001b[1;32mc:\\Users\\Douglas Tinoco\\Documents\\Programacao\\python-dashboard\\venv\\Lib\\site-packages\\plotly\\basedatatypes.py:832\u001b[0m, in \u001b[0;36mBaseFigure._ipython_display_\u001b[1;34m(self)\u001b[0m\n\u001b[0;32m    829\u001b[0m \u001b[38;5;28;01mimport\u001b[39;00m \u001b[38;5;21;01mplotly\u001b[39;00m\u001b[38;5;21;01m.\u001b[39;00m\u001b[38;5;21;01mio\u001b[39;00m \u001b[38;5;28;01mas\u001b[39;00m \u001b[38;5;21;01mpio\u001b[39;00m\n\u001b[0;32m    831\u001b[0m \u001b[38;5;28;01mif\u001b[39;00m pio\u001b[38;5;241m.\u001b[39mrenderers\u001b[38;5;241m.\u001b[39mrender_on_display \u001b[38;5;129;01mand\u001b[39;00m pio\u001b[38;5;241m.\u001b[39mrenderers\u001b[38;5;241m.\u001b[39mdefault:\n\u001b[1;32m--> 832\u001b[0m     \u001b[43mpio\u001b[49m\u001b[38;5;241;43m.\u001b[39;49m\u001b[43mshow\u001b[49m\u001b[43m(\u001b[49m\u001b[38;5;28;43mself\u001b[39;49m\u001b[43m)\u001b[49m\n\u001b[0;32m    833\u001b[0m \u001b[38;5;28;01melse\u001b[39;00m:\n\u001b[0;32m    834\u001b[0m     \u001b[38;5;28mprint\u001b[39m(\u001b[38;5;28mrepr\u001b[39m(\u001b[38;5;28mself\u001b[39m))\n",
      "File \u001b[1;32mc:\\Users\\Douglas Tinoco\\Documents\\Programacao\\python-dashboard\\venv\\Lib\\site-packages\\plotly\\io\\_renderers.py:394\u001b[0m, in \u001b[0;36mshow\u001b[1;34m(fig, renderer, validate, **kwargs)\u001b[0m\n\u001b[0;32m    389\u001b[0m         \u001b[38;5;28;01mraise\u001b[39;00m \u001b[38;5;167;01mValueError\u001b[39;00m(\n\u001b[0;32m    390\u001b[0m             \u001b[38;5;124m\"\u001b[39m\u001b[38;5;124mMime type rendering requires ipython but it is not installed\u001b[39m\u001b[38;5;124m\"\u001b[39m\n\u001b[0;32m    391\u001b[0m         )\n\u001b[0;32m    393\u001b[0m     \u001b[38;5;28;01mif\u001b[39;00m \u001b[38;5;129;01mnot\u001b[39;00m nbformat \u001b[38;5;129;01mor\u001b[39;00m Version(nbformat\u001b[38;5;241m.\u001b[39m__version__) \u001b[38;5;241m<\u001b[39m Version(\u001b[38;5;124m\"\u001b[39m\u001b[38;5;124m4.2.0\u001b[39m\u001b[38;5;124m\"\u001b[39m):\n\u001b[1;32m--> 394\u001b[0m         \u001b[38;5;28;01mraise\u001b[39;00m \u001b[38;5;167;01mValueError\u001b[39;00m(\n\u001b[0;32m    395\u001b[0m             \u001b[38;5;124m\"\u001b[39m\u001b[38;5;124mMime type rendering requires nbformat>=4.2.0 but it is not installed\u001b[39m\u001b[38;5;124m\"\u001b[39m\n\u001b[0;32m    396\u001b[0m         )\n\u001b[0;32m    398\u001b[0m     ipython_display\u001b[38;5;241m.\u001b[39mdisplay(bundle, raw\u001b[38;5;241m=\u001b[39m\u001b[38;5;28;01mTrue\u001b[39;00m)\n\u001b[0;32m    400\u001b[0m \u001b[38;5;66;03m# external renderers\u001b[39;00m\n",
      "\u001b[1;31mValueError\u001b[0m: Mime type rendering requires nbformat>=4.2.0 but it is not installed"
     ]
    },
    {
     "data": {
      "application/vnd.plotly.v1+json": {
       "config": {
        "plotlyServerURL": "https://plot.ly"
       },
       "data": [
        {
         "alignmentgroup": "True",
         "hovertemplate": "City=%{x}<br>gross income=%{y}<extra></extra>",
         "legendgroup": "",
         "marker": {
          "color": "#636efa",
          "pattern": {
           "shape": ""
          }
         },
         "name": "",
         "offsetgroup": "",
         "orientation": "v",
         "showlegend": false,
         "textposition": "auto",
         "type": "bar",
         "x": [
          "Yangon",
          "Naypyitaw",
          "Yangon",
          "Yangon",
          "Yangon",
          "Naypyitaw",
          "Yangon",
          "Naypyitaw",
          "Yangon",
          "Mandalay",
          "Mandalay",
          "Mandalay",
          "Yangon",
          "Yangon",
          "Yangon",
          "Mandalay",
          "Yangon",
          "Yangon",
          "Yangon",
          "Mandalay",
          "Naypyitaw",
          "Mandalay",
          "Mandalay",
          "Yangon",
          "Yangon",
          "Yangon",
          "Mandalay",
          "Yangon",
          "Mandalay",
          "Yangon",
          "Mandalay",
          "Mandalay",
          "Mandalay",
          "Yangon",
          "Naypyitaw",
          "Naypyitaw",
          "Yangon",
          "Yangon",
          "Naypyitaw",
          "Mandalay",
          "Mandalay",
          "Naypyitaw",
          "Mandalay",
          "Naypyitaw",
          "Naypyitaw",
          "Mandalay",
          "Mandalay",
          "Mandalay",
          "Mandalay",
          "Naypyitaw",
          "Naypyitaw",
          "Yangon",
          "Mandalay",
          "Naypyitaw",
          "Mandalay",
          "Naypyitaw",
          "Yangon",
          "Yangon",
          "Yangon",
          "Naypyitaw",
          "Naypyitaw",
          "Naypyitaw",
          "Mandalay",
          "Yangon",
          "Mandalay",
          "Yangon",
          "Naypyitaw",
          "Mandalay",
          "Yangon",
          "Yangon",
          "Naypyitaw",
          "Naypyitaw",
          "Mandalay",
          "Naypyitaw",
          "Yangon",
          "Naypyitaw",
          "Naypyitaw",
          "Yangon",
          "Naypyitaw",
          "Naypyitaw",
          "Naypyitaw",
          "Mandalay",
          "Naypyitaw",
          "Naypyitaw",
          "Naypyitaw",
          "Naypyitaw",
          "Naypyitaw",
          "Yangon",
          "Yangon",
          "Mandalay",
          "Naypyitaw",
          "Naypyitaw",
          "Yangon",
          "Mandalay",
          "Naypyitaw",
          "Yangon",
          "Mandalay",
          "Naypyitaw",
          "Yangon",
          "Mandalay",
          "Naypyitaw",
          "Naypyitaw",
          "Naypyitaw",
          "Yangon",
          "Mandalay",
          "Yangon",
          "Naypyitaw",
          "Yangon",
          "Naypyitaw",
          "Naypyitaw",
          "Mandalay",
          "Naypyitaw",
          "Mandalay",
          "Yangon",
          "Naypyitaw",
          "Naypyitaw",
          "Mandalay",
          "Mandalay",
          "Yangon",
          "Mandalay",
          "Yangon",
          "Naypyitaw",
          "Mandalay",
          "Naypyitaw",
          "Mandalay",
          "Yangon",
          "Yangon",
          "Naypyitaw",
          "Naypyitaw",
          "Mandalay",
          "Mandalay",
          "Yangon",
          "Mandalay",
          "Mandalay",
          "Naypyitaw",
          "Naypyitaw",
          "Yangon",
          "Yangon",
          "Mandalay",
          "Yangon",
          "Naypyitaw",
          "Naypyitaw",
          "Naypyitaw",
          "Naypyitaw",
          "Yangon",
          "Naypyitaw",
          "Yangon",
          "Naypyitaw",
          "Mandalay",
          "Yangon",
          "Mandalay",
          "Naypyitaw",
          "Yangon",
          "Naypyitaw",
          "Naypyitaw",
          "Yangon",
          "Mandalay",
          "Mandalay",
          "Mandalay",
          "Mandalay",
          "Naypyitaw",
          "Yangon",
          "Yangon",
          "Naypyitaw",
          "Mandalay",
          "Mandalay",
          "Naypyitaw",
          "Yangon",
          "Yangon",
          "Yangon",
          "Yangon",
          "Mandalay",
          "Naypyitaw",
          "Mandalay",
          "Mandalay",
          "Yangon",
          "Yangon",
          "Naypyitaw",
          "Yangon",
          "Naypyitaw",
          "Naypyitaw",
          "Naypyitaw",
          "Yangon",
          "Naypyitaw",
          "Yangon",
          "Mandalay",
          "Mandalay",
          "Mandalay",
          "Yangon",
          "Naypyitaw",
          "Mandalay",
          "Mandalay",
          "Naypyitaw",
          "Mandalay",
          "Yangon",
          "Naypyitaw",
          "Naypyitaw",
          "Yangon",
          "Naypyitaw",
          "Naypyitaw",
          "Naypyitaw",
          "Mandalay",
          "Naypyitaw",
          "Mandalay",
          "Mandalay",
          "Yangon",
          "Naypyitaw",
          "Naypyitaw",
          "Mandalay",
          "Mandalay",
          "Yangon",
          "Naypyitaw",
          "Mandalay",
          "Mandalay",
          "Mandalay",
          "Yangon",
          "Mandalay",
          "Yangon",
          "Mandalay",
          "Mandalay",
          "Mandalay",
          "Mandalay",
          "Naypyitaw",
          "Naypyitaw",
          "Yangon",
          "Naypyitaw",
          "Mandalay",
          "Naypyitaw",
          "Mandalay",
          "Yangon",
          "Mandalay",
          "Mandalay",
          "Mandalay",
          "Mandalay",
          "Yangon",
          "Yangon",
          "Naypyitaw",
          "Naypyitaw",
          "Mandalay",
          "Yangon",
          "Yangon",
          "Yangon",
          "Naypyitaw",
          "Yangon",
          "Mandalay",
          "Yangon",
          "Mandalay",
          "Yangon",
          "Yangon",
          "Mandalay",
          "Mandalay",
          "Naypyitaw",
          "Naypyitaw",
          "Yangon",
          "Yangon",
          "Mandalay",
          "Yangon",
          "Yangon",
          "Yangon",
          "Naypyitaw",
          "Yangon",
          "Naypyitaw",
          "Mandalay",
          "Yangon",
          "Mandalay",
          "Yangon",
          "Naypyitaw",
          "Mandalay",
          "Yangon",
          "Yangon",
          "Mandalay",
          "Naypyitaw",
          "Yangon",
          "Yangon",
          "Mandalay",
          "Mandalay",
          "Naypyitaw",
          "Naypyitaw",
          "Naypyitaw",
          "Yangon",
          "Yangon",
          "Naypyitaw",
          "Yangon",
          "Yangon",
          "Yangon",
          "Mandalay",
          "Naypyitaw",
          "Naypyitaw",
          "Mandalay",
          "Yangon",
          "Mandalay",
          "Naypyitaw",
          "Yangon",
          "Yangon",
          "Mandalay",
          "Naypyitaw",
          "Naypyitaw",
          "Yangon",
          "Yangon",
          "Naypyitaw",
          "Naypyitaw",
          "Mandalay",
          "Naypyitaw",
          "Yangon",
          "Mandalay",
          "Yangon",
          "Yangon",
          "Yangon",
          "Yangon",
          "Yangon",
          "Mandalay",
          "Naypyitaw",
          "Yangon",
          "Yangon",
          "Naypyitaw",
          "Naypyitaw",
          "Naypyitaw",
          "Naypyitaw",
          "Naypyitaw",
          "Naypyitaw",
          "Naypyitaw",
          "Naypyitaw",
          "Yangon",
          "Yangon",
          "Yangon",
          "Mandalay",
          "Yangon",
          "Naypyitaw",
          "Mandalay",
          "Yangon",
          "Mandalay",
          "Yangon",
          "Yangon",
          "Yangon",
          "Naypyitaw",
          "Yangon",
          "Yangon",
          "Mandalay",
          "Naypyitaw",
          "Mandalay",
          "Mandalay",
          "Mandalay",
          "Mandalay",
          "Naypyitaw",
          "Yangon",
          "Yangon",
          "Yangon",
          "Naypyitaw",
          "Yangon",
          "Mandalay",
          "Naypyitaw",
          "Yangon",
          "Mandalay",
          "Mandalay",
          "Naypyitaw",
          "Mandalay",
          "Naypyitaw",
          "Naypyitaw",
          "Mandalay",
          "Mandalay",
          "Yangon",
          "Naypyitaw",
          "Naypyitaw",
          "Yangon",
          "Naypyitaw",
          "Naypyitaw",
          "Naypyitaw",
          "Yangon",
          "Naypyitaw",
          "Yangon",
          "Mandalay",
          "Mandalay",
          "Naypyitaw",
          "Naypyitaw",
          "Yangon",
          "Yangon",
          "Mandalay",
          "Naypyitaw",
          "Naypyitaw",
          "Mandalay",
          "Yangon",
          "Naypyitaw",
          "Mandalay",
          "Naypyitaw",
          "Yangon",
          "Mandalay",
          "Naypyitaw",
          "Yangon",
          "Naypyitaw",
          "Mandalay",
          "Naypyitaw",
          "Mandalay",
          "Yangon",
          "Yangon",
          "Yangon",
          "Yangon",
          "Yangon",
          "Mandalay",
          "Mandalay",
          "Mandalay",
          "Naypyitaw",
          "Naypyitaw",
          "Naypyitaw",
          "Mandalay",
          "Naypyitaw",
          "Yangon",
          "Yangon",
          "Mandalay",
          "Yangon",
          "Naypyitaw",
          "Mandalay",
          "Mandalay",
          "Yangon",
          "Yangon",
          "Yangon",
          "Mandalay",
          "Naypyitaw",
          "Naypyitaw",
          "Mandalay",
          "Yangon",
          "Naypyitaw",
          "Naypyitaw",
          "Naypyitaw",
          "Mandalay",
          "Naypyitaw",
          "Mandalay",
          "Yangon",
          "Mandalay",
          "Mandalay",
          "Yangon",
          "Mandalay",
          "Naypyitaw",
          "Yangon",
          "Mandalay",
          "Mandalay",
          "Naypyitaw",
          "Naypyitaw",
          "Yangon",
          "Naypyitaw",
          "Naypyitaw",
          "Naypyitaw",
          "Mandalay",
          "Yangon",
          "Naypyitaw",
          "Yangon",
          "Mandalay",
          "Naypyitaw",
          "Naypyitaw",
          "Mandalay",
          "Mandalay",
          "Mandalay",
          "Mandalay",
          "Yangon",
          "Yangon",
          "Yangon",
          "Mandalay",
          "Mandalay",
          "Mandalay",
          "Naypyitaw",
          "Naypyitaw",
          "Naypyitaw",
          "Mandalay",
          "Naypyitaw",
          "Naypyitaw",
          "Yangon",
          "Naypyitaw",
          "Naypyitaw",
          "Mandalay",
          "Naypyitaw",
          "Naypyitaw",
          "Naypyitaw",
          "Yangon",
          "Yangon",
          "Mandalay",
          "Yangon",
          "Yangon",
          "Yangon",
          "Naypyitaw",
          "Mandalay",
          "Yangon",
          "Naypyitaw",
          "Naypyitaw",
          "Yangon",
          "Mandalay",
          "Naypyitaw",
          "Mandalay",
          "Mandalay",
          "Yangon",
          "Naypyitaw",
          "Mandalay",
          "Mandalay",
          "Yangon",
          "Mandalay",
          "Naypyitaw",
          "Mandalay",
          "Mandalay",
          "Naypyitaw",
          "Naypyitaw",
          "Mandalay",
          "Yangon",
          "Mandalay",
          "Naypyitaw",
          "Naypyitaw",
          "Mandalay",
          "Mandalay",
          "Yangon",
          "Mandalay",
          "Mandalay",
          "Mandalay",
          "Naypyitaw",
          "Mandalay",
          "Yangon",
          "Yangon",
          "Yangon",
          "Naypyitaw",
          "Naypyitaw",
          "Mandalay",
          "Naypyitaw",
          "Yangon",
          "Naypyitaw",
          "Mandalay",
          "Naypyitaw",
          "Yangon",
          "Naypyitaw",
          "Yangon",
          "Yangon",
          "Mandalay",
          "Mandalay",
          "Mandalay",
          "Yangon",
          "Yangon",
          "Yangon",
          "Mandalay",
          "Naypyitaw",
          "Yangon",
          "Naypyitaw",
          "Mandalay",
          "Yangon",
          "Yangon",
          "Naypyitaw",
          "Yangon",
          "Naypyitaw",
          "Mandalay",
          "Naypyitaw",
          "Mandalay",
          "Mandalay",
          "Yangon",
          "Yangon",
          "Mandalay",
          "Yangon",
          "Mandalay",
          "Mandalay",
          "Mandalay",
          "Naypyitaw",
          "Yangon",
          "Mandalay",
          "Mandalay",
          "Naypyitaw",
          "Yangon",
          "Yangon",
          "Mandalay",
          "Naypyitaw",
          "Mandalay",
          "Yangon",
          "Mandalay",
          "Yangon",
          "Naypyitaw",
          "Yangon",
          "Mandalay",
          "Naypyitaw",
          "Mandalay",
          "Mandalay",
          "Yangon",
          "Mandalay",
          "Yangon",
          "Mandalay",
          "Mandalay",
          "Naypyitaw",
          "Yangon",
          "Mandalay",
          "Naypyitaw",
          "Yangon",
          "Naypyitaw",
          "Mandalay",
          "Mandalay",
          "Yangon",
          "Yangon",
          "Yangon",
          "Naypyitaw",
          "Yangon",
          "Naypyitaw",
          "Naypyitaw",
          "Yangon",
          "Yangon",
          "Mandalay",
          "Mandalay",
          "Yangon",
          "Naypyitaw",
          "Naypyitaw",
          "Yangon",
          "Naypyitaw",
          "Naypyitaw",
          "Naypyitaw",
          "Mandalay",
          "Naypyitaw",
          "Mandalay",
          "Yangon",
          "Naypyitaw",
          "Yangon",
          "Mandalay",
          "Yangon",
          "Naypyitaw",
          "Mandalay",
          "Naypyitaw",
          "Yangon",
          "Yangon",
          "Mandalay",
          "Naypyitaw",
          "Yangon",
          "Naypyitaw",
          "Yangon",
          "Yangon",
          "Mandalay",
          "Mandalay",
          "Mandalay",
          "Mandalay",
          "Yangon",
          "Mandalay",
          "Yangon",
          "Yangon",
          "Yangon",
          "Yangon",
          "Yangon",
          "Mandalay",
          "Mandalay",
          "Mandalay",
          "Yangon",
          "Naypyitaw",
          "Mandalay",
          "Mandalay",
          "Mandalay",
          "Naypyitaw",
          "Mandalay",
          "Naypyitaw",
          "Naypyitaw",
          "Yangon",
          "Naypyitaw",
          "Mandalay",
          "Naypyitaw",
          "Naypyitaw",
          "Mandalay",
          "Mandalay",
          "Yangon",
          "Mandalay",
          "Mandalay",
          "Yangon",
          "Naypyitaw",
          "Yangon",
          "Yangon",
          "Yangon",
          "Mandalay",
          "Naypyitaw",
          "Mandalay",
          "Naypyitaw",
          "Naypyitaw",
          "Yangon",
          "Mandalay",
          "Mandalay",
          "Naypyitaw",
          "Mandalay",
          "Yangon",
          "Mandalay",
          "Mandalay",
          "Naypyitaw",
          "Yangon",
          "Mandalay",
          "Mandalay",
          "Yangon",
          "Naypyitaw",
          "Yangon",
          "Mandalay",
          "Mandalay",
          "Naypyitaw",
          "Yangon",
          "Mandalay",
          "Mandalay",
          "Mandalay",
          "Yangon",
          "Naypyitaw",
          "Yangon",
          "Naypyitaw",
          "Naypyitaw",
          "Yangon",
          "Naypyitaw",
          "Naypyitaw",
          "Yangon",
          "Yangon",
          "Mandalay",
          "Yangon",
          "Naypyitaw",
          "Naypyitaw",
          "Mandalay",
          "Mandalay",
          "Mandalay",
          "Mandalay",
          "Mandalay",
          "Mandalay",
          "Naypyitaw",
          "Naypyitaw",
          "Yangon",
          "Yangon",
          "Naypyitaw",
          "Naypyitaw",
          "Naypyitaw",
          "Naypyitaw",
          "Yangon",
          "Yangon",
          "Yangon",
          "Yangon",
          "Mandalay",
          "Mandalay",
          "Naypyitaw",
          "Mandalay",
          "Naypyitaw",
          "Mandalay",
          "Naypyitaw",
          "Naypyitaw",
          "Mandalay",
          "Naypyitaw",
          "Mandalay",
          "Yangon",
          "Yangon",
          "Yangon",
          "Mandalay",
          "Mandalay",
          "Naypyitaw",
          "Naypyitaw",
          "Naypyitaw",
          "Mandalay",
          "Yangon",
          "Naypyitaw",
          "Naypyitaw",
          "Yangon",
          "Yangon",
          "Naypyitaw",
          "Naypyitaw",
          "Mandalay",
          "Naypyitaw",
          "Mandalay",
          "Naypyitaw",
          "Mandalay",
          "Yangon",
          "Yangon",
          "Mandalay",
          "Naypyitaw",
          "Yangon",
          "Mandalay",
          "Yangon",
          "Yangon",
          "Yangon",
          "Mandalay",
          "Mandalay",
          "Yangon",
          "Yangon",
          "Yangon",
          "Mandalay",
          "Naypyitaw",
          "Mandalay",
          "Mandalay",
          "Yangon",
          "Mandalay",
          "Naypyitaw",
          "Naypyitaw",
          "Naypyitaw",
          "Naypyitaw",
          "Mandalay",
          "Naypyitaw",
          "Mandalay",
          "Naypyitaw",
          "Mandalay",
          "Naypyitaw",
          "Yangon",
          "Yangon",
          "Naypyitaw",
          "Naypyitaw",
          "Yangon",
          "Naypyitaw",
          "Naypyitaw",
          "Naypyitaw",
          "Yangon",
          "Yangon",
          "Naypyitaw",
          "Mandalay",
          "Yangon",
          "Yangon",
          "Mandalay",
          "Naypyitaw",
          "Yangon",
          "Mandalay",
          "Naypyitaw",
          "Mandalay",
          "Naypyitaw",
          "Naypyitaw",
          "Yangon",
          "Mandalay",
          "Yangon",
          "Yangon",
          "Yangon",
          "Mandalay",
          "Naypyitaw",
          "Mandalay",
          "Yangon",
          "Naypyitaw",
          "Yangon",
          "Yangon",
          "Mandalay",
          "Naypyitaw",
          "Yangon",
          "Mandalay",
          "Mandalay",
          "Mandalay",
          "Yangon",
          "Naypyitaw",
          "Yangon",
          "Mandalay",
          "Yangon",
          "Mandalay",
          "Yangon",
          "Naypyitaw",
          "Yangon",
          "Yangon",
          "Mandalay",
          "Mandalay",
          "Yangon",
          "Mandalay",
          "Yangon",
          "Yangon",
          "Mandalay",
          "Naypyitaw",
          "Naypyitaw",
          "Yangon",
          "Mandalay",
          "Yangon",
          "Naypyitaw",
          "Yangon",
          "Yangon",
          "Yangon",
          "Naypyitaw",
          "Naypyitaw",
          "Yangon",
          "Yangon",
          "Yangon",
          "Naypyitaw",
          "Mandalay",
          "Yangon",
          "Mandalay",
          "Mandalay",
          "Yangon",
          "Mandalay",
          "Yangon",
          "Naypyitaw",
          "Yangon",
          "Mandalay",
          "Mandalay",
          "Yangon",
          "Naypyitaw",
          "Mandalay",
          "Naypyitaw",
          "Naypyitaw",
          "Yangon",
          "Yangon",
          "Naypyitaw",
          "Mandalay",
          "Yangon",
          "Yangon",
          "Naypyitaw",
          "Naypyitaw",
          "Mandalay",
          "Yangon",
          "Mandalay",
          "Mandalay",
          "Naypyitaw",
          "Mandalay",
          "Yangon",
          "Yangon",
          "Yangon",
          "Yangon",
          "Yangon",
          "Naypyitaw",
          "Yangon",
          "Naypyitaw",
          "Mandalay",
          "Naypyitaw",
          "Mandalay",
          "Mandalay",
          "Mandalay",
          "Naypyitaw",
          "Naypyitaw",
          "Naypyitaw",
          "Yangon",
          "Naypyitaw",
          "Mandalay",
          "Yangon",
          "Yangon",
          "Naypyitaw",
          "Naypyitaw",
          "Naypyitaw",
          "Mandalay",
          "Yangon",
          "Mandalay",
          "Mandalay",
          "Naypyitaw",
          "Yangon",
          "Yangon",
          "Yangon",
          "Naypyitaw",
          "Naypyitaw",
          "Yangon",
          "Mandalay",
          "Mandalay",
          "Naypyitaw",
          "Mandalay",
          "Naypyitaw",
          "Naypyitaw",
          "Naypyitaw",
          "Mandalay",
          "Mandalay",
          "Yangon",
          "Mandalay",
          "Mandalay",
          "Mandalay",
          "Naypyitaw",
          "Yangon",
          "Naypyitaw",
          "Mandalay",
          "Naypyitaw",
          "Naypyitaw",
          "Yangon",
          "Yangon",
          "Naypyitaw",
          "Yangon",
          "Naypyitaw",
          "Yangon",
          "Yangon",
          "Yangon",
          "Yangon",
          "Naypyitaw",
          "Mandalay",
          "Naypyitaw",
          "Mandalay",
          "Mandalay",
          "Mandalay",
          "Mandalay",
          "Naypyitaw",
          "Mandalay",
          "Yangon",
          "Naypyitaw",
          "Mandalay",
          "Naypyitaw",
          "Yangon",
          "Naypyitaw",
          "Yangon",
          "Yangon",
          "Naypyitaw",
          "Mandalay",
          "Mandalay",
          "Yangon",
          "Yangon",
          "Yangon",
          "Mandalay",
          "Mandalay",
          "Mandalay",
          "Mandalay",
          "Yangon",
          "Naypyitaw",
          "Mandalay",
          "Yangon",
          "Mandalay",
          "Mandalay",
          "Mandalay",
          "Naypyitaw",
          "Yangon",
          "Yangon",
          "Naypyitaw",
          "Naypyitaw",
          "Mandalay",
          "Mandalay",
          "Mandalay",
          "Naypyitaw",
          "Mandalay",
          "Yangon",
          "Mandalay",
          "Yangon",
          "Mandalay",
          "Naypyitaw",
          "Naypyitaw",
          "Mandalay",
          "Yangon",
          "Yangon",
          "Yangon"
         ],
         "xaxis": "x",
         "y": [
          26.1415,
          3.82,
          16.2155,
          23.288,
          30.2085,
          29.8865,
          20.652,
          36.78,
          3.626,
          8.226,
          2.896,
          5.102,
          11.7375,
          21.595,
          35.69,
          28.116,
          24.1255,
          21.783,
          8.2005,
          4.03,
          21.51,
          13.197,
          3.32,
          8.64,
          13.2945,
          21.036,
          1.676,
          8.767,
          22.09,
          11.2005,
          23.5325,
          35.1315,
          33.512,
          9.658,
          19.884,
          3.406,
          15.655,
          27.396,
          21.968,
          12.048,
          4.336,
          5.611,
          20.736,
          39.48,
          1.537,
          18.792,
          25.5105,
          9.0045,
          5.679,
          41.315,
          31.99,
          11.1475,
          3.574,
          0.7715,
          1.616,
          34.392,
          4.434,
          35.84,
          36.175,
          9.183,
          3.711,
          16.719,
          24.7815,
          7.905,
          15.148,
          7.935,
          3.347,
          29.283,
          39.385,
          0.9165,
          44.74,
          31.06,
          7.278,
          22.773,
          33.6015,
          20.825,
          22.068,
          9.0045,
          39.155,
          5.095,
          29.757,
          14.502,
          7.7,
          16.072,
          12.2275,
          29.071,
          19.13,
          17.283,
          2.1235,
          23.097,
          9.476,
          22.43,
          7.693,
          28.962,
          4.4875,
          4.858,
          43.935,
          3.735,
          7.9125,
          24.81,
          2.4355,
          35.3475,
          10.3815,
          17.478,
          10.6225,
          44.335,
          8.214,
          18.639,
          15.291,
          40.985,
          1.649,
          14.7315,
          25.494,
          26.1315,
          36.3555,
          4.053,
          5.485,
          2.568,
          5.48,
          5.344,
          39.824,
          19.992,
          44.982,
          25.564,
          22.588,
          32.7915,
          8.0625,
          14.2785,
          27.416,
          40.626,
          13.867,
          27.639,
          6.968,
          26.235,
          24.39,
          13.533,
          6.5775,
          10.326,
          25.955,
          29,
          44.9,
          45.25,
          34.3,
          1.5205,
          23.385,
          13.878,
          15.07,
          13.228,
          28.744,
          12.984,
          18.308,
          12.096,
          37.458,
          4.944,
          32.388,
          23.0725,
          3.6085,
          12.57,
          43.749,
          28.017,
          17.272,
          3.1845,
          16.0265,
          7.64,
          19.95,
          17.028,
          47.79,
          49.49,
          15.384,
          24.332,
          17.5025,
          20.0125,
          8.34,
          15.867,
          7.916,
          15.228,
          8.868,
          7.8785,
          22.164,
          13.02,
          22.491,
          15.388,
          7.75,
          13.724,
          4.319,
          2.712,
          37.796,
          9.294,
          3.7035,
          13.962,
          11.556,
          7.352,
          39.51,
          5.11,
          8.1775,
          3.7145,
          4.37,
          1.2645,
          8.3,
          17.8475,
          5.745,
          11.498,
          21.4935,
          12.95,
          4.4425,
          10.3635,
          29.9925,
          14.265,
          4.5555,
          44.8785,
          11.8035,
          41.967,
          23.09,
          6.963,
          10.3635,
          0.914,
          6.1925,
          14.196,
          37.948,
          8.601,
          13.605,
          21.728,
          2.9525,
          0.627,
          4.325,
          8.716,
          31.2165,
          7.412,
          27.21,
          25.368,
          8.137,
          1.5885,
          37.8405,
          14.764,
          25.97,
          9.314,
          4.3525,
          11.055,
          3.305,
          4.4845,
          11.223,
          5.977,
          9.32,
          12.53,
          37.548,
          19.036,
          12.21,
          4.485,
          15.544,
          25.571,
          20.9475,
          17.595,
          1.439,
          4.75,
          23.56,
          6.524,
          3.3175,
          7.773,
          6.45,
          13.188,
          33.777,
          3.29,
          7.66,
          11.12,
          2.7225,
          34.44,
          7.094,
          37.3,
          14.148,
          17.77,
          16.8575,
          2.112,
          9.693,
          1.203,
          29.913,
          16.7895,
          10.91,
          19.084,
          35.495,
          22.01,
          27.984,
          1.85,
          0.767,
          29.949,
          9.534,
          16.67,
          3.743,
          10.6875,
          16.9785,
          33.208,
          20.15,
          9.7475,
          3.124,
          3.636,
          9.055,
          12.98,
          5.768,
          23.514,
          12.002,
          4.4305,
          9.982,
          1.9505,
          2.4305,
          10.238,
          5.984,
          25.27,
          14.0805,
          35.516,
          3.972,
          8.191,
          23.979,
          6.933,
          3.5575,
          6.9975,
          39.065,
          9.937,
          3.162,
          18.6975,
          10.3845,
          8.814,
          10.3185,
          1.971,
          4.578,
          15.4425,
          6.456,
          19.548,
          24.945,
          18.852,
          10.226,
          7.272,
          9.909,
          4.935,
          19.255,
          2.348,
          3.675,
          7.1125,
          34.38,
          17.385,
          7.1475,
          19.269,
          7.2135,
          19.5895,
          26.915,
          24.2575,
          6.6975,
          35.0685,
          3.5975,
          35.7,
          9.107,
          6.75,
          49.65,
          18.0915,
          19.1555,
          12.15,
          1.512,
          17.828,
          18.775,
          47.72,
          4.125,
          3.7485,
          32.384,
          37.788,
          9.979,
          21.966,
          8.248,
          16.336,
          23.094,
          13.188,
          7.18,
          9.675,
          9.191,
          6.096,
          21.033,
          12.624,
          16.7725,
          24.175,
          15.921,
          33.4215,
          19.396,
          4.73,
          16.466,
          2.661,
          24.9225,
          14.978,
          10.235,
          3.791,
          14.031,
          16.16,
          24.3315,
          6.377,
          12.072,
          18.975,
          3.841,
          26.13,
          3.987,
          19.375,
          13.5675,
          6.1155,
          12.318,
          8.658,
          11.829,
          9.244,
          0.699,
          9.9375,
          34.2265,
          13.452,
          3.4475,
          13.742,
          11.306,
          5.955,
          17.105,
          2.187,
          5.2425,
          3.876,
          20.372,
          4.8055,
          9.076,
          4.0755,
          5.722,
          8.827,
          5.79,
          12.6075,
          48.605,
          10.168,
          0.814,
          18.2745,
          18.6095,
          3.1305,
          16.8175,
          45.325,
          6.908,
          4.327,
          7.038,
          33.439,
          2.372,
          44.658,
          16.586,
          10.197,
          3.408,
          16.344,
          4.36,
          35.372,
          40.1445,
          0.639,
          6.685,
          0.9575,
          13.83,
          6.861,
          1.3535,
          1.956,
          22.413,
          6.603,
          15.9025,
          1.25,
          4.154,
          7.39,
          34.83,
          39.695,
          23.285,
          1.7945,
          10.13,
          36.525,
          14.79,
          1.131,
          12.835,
          27.275,
          13.0025,
          11.106,
          1.079,
          4.942,
          25.131,
          8.01,
          21.565,
          29.028,
          16.11,
          9.777,
          8.315,
          16.814,
          17.185,
          1.93,
          26.388,
          16.4,
          9.285,
          30.19,
          18.49,
          9.898,
          20.545,
          7.43,
          1.148,
          34.956,
          3.47,
          9.83,
          10.128,
          6.06,
          9.989,
          30.368,
          6.322,
          27.072,
          4.9065,
          20.608,
          3.6985,
          1.595,
          6.94,
          9.331,
          4.4225,
          9.672,
          7.275,
          25.215,
          15.3225,
          4.785,
          31.759,
          10.7275,
          18.998,
          34.8425,
          20.4365,
          2.5735,
          13.715,
          9.8475,
          3.473,
          17.98,
          6.8565,
          24.951,
          11.232,
          6.287,
          24.513,
          22.8525,
          7.842,
          5.986,
          27.18,
          44.1405,
          7.629,
          34.672,
          11.475,
          7.3395,
          7.08,
          5.8345,
          3.698,
          4.897,
          14.61,
          26.244,
          4.602,
          3.794,
          4.036,
          5.631,
          3.56,
          7.762,
          14.71,
          27.4275,
          12.885,
          19.818,
          8.5905,
          24.4395,
          26.208,
          6.663,
          6.762,
          5.622,
          7.204,
          49.26,
          12.498,
          10.863,
          9.711,
          44.6,
          16.968,
          22.353,
          9.925,
          40.605,
          24.665,
          29.583,
          27.951,
          25.893,
          20.51,
          13.335,
          3.5455,
          7.239,
          21.4775,
          28.4585,
          12.06,
          6.354,
          12.854,
          6.951,
          4.083,
          15.536,
          9.298,
          3.616,
          9.459,
          10.342,
          7.851,
          10.765,
          29.805,
          3.655,
          13.959,
          8.484,
          2.279,
          11.28,
          14.52,
          2.223,
          7.83,
          20.997,
          9.2125,
          7.032,
          4.154,
          3.2495,
          38.78,
          16.353,
          18.1615,
          6.35,
          18.7775,
          9.958,
          1.5305,
          5.789,
          1.448,
          44.5365,
          13.983,
          4.0465,
          33.725,
          17.424,
          21.78,
          21.9775,
          29.559,
          13.038,
          10.752,
          4.5805,
          33.1065,
          41.625,
          4.5675,
          7.888,
          6.087,
          41.29,
          7.995,
          0.6045,
          32.095,
          11.7465,
          8.377,
          14.955,
          11.9865,
          33.235,
          10.1325,
          2.31,
          4.4075,
          7.863,
          14.8185,
          35.42,
          5.567,
          29.008,
          3.0125,
          8.712,
          21.063,
          1.6815,
          1.549,
          12.37,
          18.915,
          16.743,
          36.39,
          16.794,
          12.036,
          2.3535,
          4.9845,
          13.2225,
          6.9825,
          2.7725,
          6.4455,
          5.999,
          17.625,
          43.55,
          9.88,
          9.726,
          8.661,
          3.594,
          14.313,
          4.062,
          28.02,
          9.34,
          11.0115,
          13.456,
          22.74,
          8.377,
          22.428,
          14.694,
          29.475,
          14.55,
          1.974,
          1.7405,
          14.796,
          2.148,
          6.924,
          4.91,
          6.483,
          31.78,
          7.288,
          10.065,
          31.5855,
          19.264,
          24.315,
          25.683,
          23.67,
          21.8425,
          5.408,
          12.438,
          31.311,
          48.75,
          24.164,
          4.848,
          9.885,
          36.2115,
          39.7755,
          25.1195,
          8.6,
          3.449,
          6.248,
          3.855,
          24.186,
          15.106,
          34.9335,
          6.2325,
          39.48,
          8.92,
          25.011,
          1.791,
          6.807,
          5.244,
          8.946,
          40.7835,
          6.618,
          12.8695,
          4.668,
          11.4,
          8.3355,
          34.87,
          19.452,
          18.263,
          4.464,
          8.4,
          0.985,
          26.558,
          2.686,
          40.975,
          28.42,
          29.38,
          36.624,
          42.282,
          19.4635,
          4.2415,
          7.163,
          3.769,
          12.668,
          1.921,
          32.615,
          2.6325,
          5.5305,
          28.4305,
          4.464,
          6.82,
          8.71,
          18.32,
          12.7305,
          38.916,
          14.296,
          28.956,
          9.425,
          11.078,
          38.6,
          36.065,
          25.552,
          2.6725,
          11.1,
          38.184,
          11.409,
          4.107,
          19.128,
          3.429,
          19.108,
          30.0545,
          23.7965,
          2.621,
          6.565,
          7.215,
          22.8585,
          4.669,
          6.3125,
          39.5415,
          8.72,
          18.952,
          1.531,
          17.604,
          2.54,
          26.103,
          28.756,
          2.7475,
          9.0705,
          20.6185,
          2.3205,
          13.71,
          48.685,
          32.41,
          4.661,
          2.718,
          3.0435,
          12.245,
          4.639,
          21.6725,
          6.903,
          12.08,
          23.5865,
          22.032,
          34.0155,
          15.494,
          9.318,
          10.046,
          0.8875,
          31.09,
          4.3,
          20.13,
          16.2425,
          4.7575,
          19.448,
          21.284,
          15.904,
          13.552,
          19.232,
          11.79,
          10.578,
          4.768,
          0.5085,
          10.3065,
          21.028,
          4.402,
          32.4495,
          6.192,
          32.475,
          37.11,
          4.224,
          12.514,
          4.74,
          4.565,
          14.2555,
          2.619,
          9.635,
          13.389,
          27.935,
          8.766,
          7.791,
          3.015,
          3.947,
          1.487,
          1.066,
          14.067,
          3.663,
          1.119,
          32.796,
          29.73,
          3.705,
          9.848,
          18.6165,
          26.395,
          23.9875,
          16.4295,
          8.448,
          5.662,
          17.277,
          21.4335,
          4.3135,
          1.276,
          5.076,
          17.8745,
          11.9385,
          5.0715,
          36.212,
          6.282,
          3.6465,
          12.918,
          8.687,
          2.825,
          10.715,
          26.718,
          4.658,
          26.104,
          2.6175,
          1.9875,
          36.008,
          4.84,
          16.605,
          4.072,
          15.995,
          10.326,
          8.334,
          15.953,
          4.395,
          36.735,
          4.876,
          38.46,
          20.915,
          23.164,
          23.1225,
          7.095,
          15.135,
          39.664,
          21.259,
          14.181,
          29.96,
          15.768,
          20.178,
          9.194,
          6.9325,
          4.0355,
          5.832,
          15.676,
          42.305,
          20.72,
          7.954,
          24.505,
          4.3725,
          11.226,
          37.248,
          20.536,
          14.94,
          10.647,
          2.1425,
          18.934,
          10.3455,
          3.939,
          16.1055,
          4.911,
          1.273,
          29.099,
          10.566,
          2.756,
          4.4155,
          17.829,
          39.7125,
          2.531,
          29.976,
          8.335,
          37.22,
          22.428,
          18.945,
          12.858,
          27.6115,
          22.37,
          13.8135,
          17.187,
          13.304,
          44.919,
          22.84,
          12.6975,
          3.528,
          32.858,
          8.425,
          2.689,
          8.9525,
          10.572,
          5.9865,
          3.285,
          12.57,
          4.208,
          19.773,
          14.8995,
          22.7205,
          13.806,
          7.9,
          44.397,
          4.599,
          2.089,
          0.775,
          14.523,
          3.333,
          3.827,
          14.985,
          12.1515,
          2.37,
          8.6225,
          42.315,
          12.9185,
          30.478,
          12.012,
          8.613,
          4.992,
          14.932,
          7.98,
          1.2725,
          3.3885,
          11.918,
          11.63,
          43.866,
          34.986,
          33.7295,
          15.9275,
          1.476,
          24.8,
          41.17,
          30.148,
          14.14,
          38.3,
          5.803,
          8.745,
          3.0475,
          2.0175,
          48.69,
          1.592,
          3.291,
          30.919
         ],
         "yaxis": "y"
        }
       ],
       "layout": {
        "barmode": "relative",
        "legend": {
         "tracegroupgap": 0
        },
        "margin": {
         "t": 60
        },
        "template": {
         "data": {
          "bar": [
           {
            "error_x": {
             "color": "#2a3f5f"
            },
            "error_y": {
             "color": "#2a3f5f"
            },
            "marker": {
             "line": {
              "color": "#E5ECF6",
              "width": 0.5
             },
             "pattern": {
              "fillmode": "overlay",
              "size": 10,
              "solidity": 0.2
             }
            },
            "type": "bar"
           }
          ],
          "barpolar": [
           {
            "marker": {
             "line": {
              "color": "#E5ECF6",
              "width": 0.5
             },
             "pattern": {
              "fillmode": "overlay",
              "size": 10,
              "solidity": 0.2
             }
            },
            "type": "barpolar"
           }
          ],
          "carpet": [
           {
            "aaxis": {
             "endlinecolor": "#2a3f5f",
             "gridcolor": "white",
             "linecolor": "white",
             "minorgridcolor": "white",
             "startlinecolor": "#2a3f5f"
            },
            "baxis": {
             "endlinecolor": "#2a3f5f",
             "gridcolor": "white",
             "linecolor": "white",
             "minorgridcolor": "white",
             "startlinecolor": "#2a3f5f"
            },
            "type": "carpet"
           }
          ],
          "choropleth": [
           {
            "colorbar": {
             "outlinewidth": 0,
             "ticks": ""
            },
            "type": "choropleth"
           }
          ],
          "contour": [
           {
            "colorbar": {
             "outlinewidth": 0,
             "ticks": ""
            },
            "colorscale": [
             [
              0,
              "#0d0887"
             ],
             [
              0.1111111111111111,
              "#46039f"
             ],
             [
              0.2222222222222222,
              "#7201a8"
             ],
             [
              0.3333333333333333,
              "#9c179e"
             ],
             [
              0.4444444444444444,
              "#bd3786"
             ],
             [
              0.5555555555555556,
              "#d8576b"
             ],
             [
              0.6666666666666666,
              "#ed7953"
             ],
             [
              0.7777777777777778,
              "#fb9f3a"
             ],
             [
              0.8888888888888888,
              "#fdca26"
             ],
             [
              1,
              "#f0f921"
             ]
            ],
            "type": "contour"
           }
          ],
          "contourcarpet": [
           {
            "colorbar": {
             "outlinewidth": 0,
             "ticks": ""
            },
            "type": "contourcarpet"
           }
          ],
          "heatmap": [
           {
            "colorbar": {
             "outlinewidth": 0,
             "ticks": ""
            },
            "colorscale": [
             [
              0,
              "#0d0887"
             ],
             [
              0.1111111111111111,
              "#46039f"
             ],
             [
              0.2222222222222222,
              "#7201a8"
             ],
             [
              0.3333333333333333,
              "#9c179e"
             ],
             [
              0.4444444444444444,
              "#bd3786"
             ],
             [
              0.5555555555555556,
              "#d8576b"
             ],
             [
              0.6666666666666666,
              "#ed7953"
             ],
             [
              0.7777777777777778,
              "#fb9f3a"
             ],
             [
              0.8888888888888888,
              "#fdca26"
             ],
             [
              1,
              "#f0f921"
             ]
            ],
            "type": "heatmap"
           }
          ],
          "heatmapgl": [
           {
            "colorbar": {
             "outlinewidth": 0,
             "ticks": ""
            },
            "colorscale": [
             [
              0,
              "#0d0887"
             ],
             [
              0.1111111111111111,
              "#46039f"
             ],
             [
              0.2222222222222222,
              "#7201a8"
             ],
             [
              0.3333333333333333,
              "#9c179e"
             ],
             [
              0.4444444444444444,
              "#bd3786"
             ],
             [
              0.5555555555555556,
              "#d8576b"
             ],
             [
              0.6666666666666666,
              "#ed7953"
             ],
             [
              0.7777777777777778,
              "#fb9f3a"
             ],
             [
              0.8888888888888888,
              "#fdca26"
             ],
             [
              1,
              "#f0f921"
             ]
            ],
            "type": "heatmapgl"
           }
          ],
          "histogram": [
           {
            "marker": {
             "pattern": {
              "fillmode": "overlay",
              "size": 10,
              "solidity": 0.2
             }
            },
            "type": "histogram"
           }
          ],
          "histogram2d": [
           {
            "colorbar": {
             "outlinewidth": 0,
             "ticks": ""
            },
            "colorscale": [
             [
              0,
              "#0d0887"
             ],
             [
              0.1111111111111111,
              "#46039f"
             ],
             [
              0.2222222222222222,
              "#7201a8"
             ],
             [
              0.3333333333333333,
              "#9c179e"
             ],
             [
              0.4444444444444444,
              "#bd3786"
             ],
             [
              0.5555555555555556,
              "#d8576b"
             ],
             [
              0.6666666666666666,
              "#ed7953"
             ],
             [
              0.7777777777777778,
              "#fb9f3a"
             ],
             [
              0.8888888888888888,
              "#fdca26"
             ],
             [
              1,
              "#f0f921"
             ]
            ],
            "type": "histogram2d"
           }
          ],
          "histogram2dcontour": [
           {
            "colorbar": {
             "outlinewidth": 0,
             "ticks": ""
            },
            "colorscale": [
             [
              0,
              "#0d0887"
             ],
             [
              0.1111111111111111,
              "#46039f"
             ],
             [
              0.2222222222222222,
              "#7201a8"
             ],
             [
              0.3333333333333333,
              "#9c179e"
             ],
             [
              0.4444444444444444,
              "#bd3786"
             ],
             [
              0.5555555555555556,
              "#d8576b"
             ],
             [
              0.6666666666666666,
              "#ed7953"
             ],
             [
              0.7777777777777778,
              "#fb9f3a"
             ],
             [
              0.8888888888888888,
              "#fdca26"
             ],
             [
              1,
              "#f0f921"
             ]
            ],
            "type": "histogram2dcontour"
           }
          ],
          "mesh3d": [
           {
            "colorbar": {
             "outlinewidth": 0,
             "ticks": ""
            },
            "type": "mesh3d"
           }
          ],
          "parcoords": [
           {
            "line": {
             "colorbar": {
              "outlinewidth": 0,
              "ticks": ""
             }
            },
            "type": "parcoords"
           }
          ],
          "pie": [
           {
            "automargin": true,
            "type": "pie"
           }
          ],
          "scatter": [
           {
            "fillpattern": {
             "fillmode": "overlay",
             "size": 10,
             "solidity": 0.2
            },
            "type": "scatter"
           }
          ],
          "scatter3d": [
           {
            "line": {
             "colorbar": {
              "outlinewidth": 0,
              "ticks": ""
             }
            },
            "marker": {
             "colorbar": {
              "outlinewidth": 0,
              "ticks": ""
             }
            },
            "type": "scatter3d"
           }
          ],
          "scattercarpet": [
           {
            "marker": {
             "colorbar": {
              "outlinewidth": 0,
              "ticks": ""
             }
            },
            "type": "scattercarpet"
           }
          ],
          "scattergeo": [
           {
            "marker": {
             "colorbar": {
              "outlinewidth": 0,
              "ticks": ""
             }
            },
            "type": "scattergeo"
           }
          ],
          "scattergl": [
           {
            "marker": {
             "colorbar": {
              "outlinewidth": 0,
              "ticks": ""
             }
            },
            "type": "scattergl"
           }
          ],
          "scattermapbox": [
           {
            "marker": {
             "colorbar": {
              "outlinewidth": 0,
              "ticks": ""
             }
            },
            "type": "scattermapbox"
           }
          ],
          "scatterpolar": [
           {
            "marker": {
             "colorbar": {
              "outlinewidth": 0,
              "ticks": ""
             }
            },
            "type": "scatterpolar"
           }
          ],
          "scatterpolargl": [
           {
            "marker": {
             "colorbar": {
              "outlinewidth": 0,
              "ticks": ""
             }
            },
            "type": "scatterpolargl"
           }
          ],
          "scatterternary": [
           {
            "marker": {
             "colorbar": {
              "outlinewidth": 0,
              "ticks": ""
             }
            },
            "type": "scatterternary"
           }
          ],
          "surface": [
           {
            "colorbar": {
             "outlinewidth": 0,
             "ticks": ""
            },
            "colorscale": [
             [
              0,
              "#0d0887"
             ],
             [
              0.1111111111111111,
              "#46039f"
             ],
             [
              0.2222222222222222,
              "#7201a8"
             ],
             [
              0.3333333333333333,
              "#9c179e"
             ],
             [
              0.4444444444444444,
              "#bd3786"
             ],
             [
              0.5555555555555556,
              "#d8576b"
             ],
             [
              0.6666666666666666,
              "#ed7953"
             ],
             [
              0.7777777777777778,
              "#fb9f3a"
             ],
             [
              0.8888888888888888,
              "#fdca26"
             ],
             [
              1,
              "#f0f921"
             ]
            ],
            "type": "surface"
           }
          ],
          "table": [
           {
            "cells": {
             "fill": {
              "color": "#EBF0F8"
             },
             "line": {
              "color": "white"
             }
            },
            "header": {
             "fill": {
              "color": "#C8D4E3"
             },
             "line": {
              "color": "white"
             }
            },
            "type": "table"
           }
          ]
         },
         "layout": {
          "annotationdefaults": {
           "arrowcolor": "#2a3f5f",
           "arrowhead": 0,
           "arrowwidth": 1
          },
          "autotypenumbers": "strict",
          "coloraxis": {
           "colorbar": {
            "outlinewidth": 0,
            "ticks": ""
           }
          },
          "colorscale": {
           "diverging": [
            [
             0,
             "#8e0152"
            ],
            [
             0.1,
             "#c51b7d"
            ],
            [
             0.2,
             "#de77ae"
            ],
            [
             0.3,
             "#f1b6da"
            ],
            [
             0.4,
             "#fde0ef"
            ],
            [
             0.5,
             "#f7f7f7"
            ],
            [
             0.6,
             "#e6f5d0"
            ],
            [
             0.7,
             "#b8e186"
            ],
            [
             0.8,
             "#7fbc41"
            ],
            [
             0.9,
             "#4d9221"
            ],
            [
             1,
             "#276419"
            ]
           ],
           "sequential": [
            [
             0,
             "#0d0887"
            ],
            [
             0.1111111111111111,
             "#46039f"
            ],
            [
             0.2222222222222222,
             "#7201a8"
            ],
            [
             0.3333333333333333,
             "#9c179e"
            ],
            [
             0.4444444444444444,
             "#bd3786"
            ],
            [
             0.5555555555555556,
             "#d8576b"
            ],
            [
             0.6666666666666666,
             "#ed7953"
            ],
            [
             0.7777777777777778,
             "#fb9f3a"
            ],
            [
             0.8888888888888888,
             "#fdca26"
            ],
            [
             1,
             "#f0f921"
            ]
           ],
           "sequentialminus": [
            [
             0,
             "#0d0887"
            ],
            [
             0.1111111111111111,
             "#46039f"
            ],
            [
             0.2222222222222222,
             "#7201a8"
            ],
            [
             0.3333333333333333,
             "#9c179e"
            ],
            [
             0.4444444444444444,
             "#bd3786"
            ],
            [
             0.5555555555555556,
             "#d8576b"
            ],
            [
             0.6666666666666666,
             "#ed7953"
            ],
            [
             0.7777777777777778,
             "#fb9f3a"
            ],
            [
             0.8888888888888888,
             "#fdca26"
            ],
            [
             1,
             "#f0f921"
            ]
           ]
          },
          "colorway": [
           "#636efa",
           "#EF553B",
           "#00cc96",
           "#ab63fa",
           "#FFA15A",
           "#19d3f3",
           "#FF6692",
           "#B6E880",
           "#FF97FF",
           "#FECB52"
          ],
          "font": {
           "color": "#2a3f5f"
          },
          "geo": {
           "bgcolor": "white",
           "lakecolor": "white",
           "landcolor": "#E5ECF6",
           "showlakes": true,
           "showland": true,
           "subunitcolor": "white"
          },
          "hoverlabel": {
           "align": "left"
          },
          "hovermode": "closest",
          "mapbox": {
           "style": "light"
          },
          "paper_bgcolor": "white",
          "plot_bgcolor": "#E5ECF6",
          "polar": {
           "angularaxis": {
            "gridcolor": "white",
            "linecolor": "white",
            "ticks": ""
           },
           "bgcolor": "#E5ECF6",
           "radialaxis": {
            "gridcolor": "white",
            "linecolor": "white",
            "ticks": ""
           }
          },
          "scene": {
           "xaxis": {
            "backgroundcolor": "#E5ECF6",
            "gridcolor": "white",
            "gridwidth": 2,
            "linecolor": "white",
            "showbackground": true,
            "ticks": "",
            "zerolinecolor": "white"
           },
           "yaxis": {
            "backgroundcolor": "#E5ECF6",
            "gridcolor": "white",
            "gridwidth": 2,
            "linecolor": "white",
            "showbackground": true,
            "ticks": "",
            "zerolinecolor": "white"
           },
           "zaxis": {
            "backgroundcolor": "#E5ECF6",
            "gridcolor": "white",
            "gridwidth": 2,
            "linecolor": "white",
            "showbackground": true,
            "ticks": "",
            "zerolinecolor": "white"
           }
          },
          "shapedefaults": {
           "line": {
            "color": "#2a3f5f"
           }
          },
          "ternary": {
           "aaxis": {
            "gridcolor": "white",
            "linecolor": "white",
            "ticks": ""
           },
           "baxis": {
            "gridcolor": "white",
            "linecolor": "white",
            "ticks": ""
           },
           "bgcolor": "#E5ECF6",
           "caxis": {
            "gridcolor": "white",
            "linecolor": "white",
            "ticks": ""
           }
          },
          "title": {
           "x": 0.05
          },
          "xaxis": {
           "automargin": true,
           "gridcolor": "white",
           "linecolor": "white",
           "ticks": "",
           "title": {
            "standoff": 15
           },
           "zerolinecolor": "white",
           "zerolinewidth": 2
          },
          "yaxis": {
           "automargin": true,
           "gridcolor": "white",
           "linecolor": "white",
           "ticks": "",
           "title": {
            "standoff": 15
           },
           "zerolinecolor": "white",
           "zerolinewidth": 2
          }
         }
        },
        "xaxis": {
         "anchor": "y",
         "domain": [
          0,
          1
         ],
         "title": {
          "text": "City"
         }
        },
        "yaxis": {
         "anchor": "x",
         "domain": [
          0,
          1
         ],
         "title": {
          "text": "gross income"
         }
        }
       }
      },
      "text/html": [
       "<div>                        <script type=\"text/javascript\">window.PlotlyConfig = {MathJaxConfig: 'local'};</script>\n",
       "        <script charset=\"utf-8\" src=\"https://cdn.plot.ly/plotly-2.27.0.min.js\"></script>                <div id=\"2a0c4961-1df2-4017-a05c-921ad7e12e6a\" class=\"plotly-graph-div\" style=\"height:100%; width:100%;\"></div>            <script type=\"text/javascript\">                                    window.PLOTLYENV=window.PLOTLYENV || {};                                    if (document.getElementById(\"2a0c4961-1df2-4017-a05c-921ad7e12e6a\")) {                    Plotly.newPlot(                        \"2a0c4961-1df2-4017-a05c-921ad7e12e6a\",                        [{\"alignmentgroup\":\"True\",\"hovertemplate\":\"City=%{x}\\u003cbr\\u003egross income=%{y}\\u003cextra\\u003e\\u003c\\u002fextra\\u003e\",\"legendgroup\":\"\",\"marker\":{\"color\":\"#636efa\",\"pattern\":{\"shape\":\"\"}},\"name\":\"\",\"offsetgroup\":\"\",\"orientation\":\"v\",\"showlegend\":false,\"textposition\":\"auto\",\"x\":[\"Yangon\",\"Naypyitaw\",\"Yangon\",\"Yangon\",\"Yangon\",\"Naypyitaw\",\"Yangon\",\"Naypyitaw\",\"Yangon\",\"Mandalay\",\"Mandalay\",\"Mandalay\",\"Yangon\",\"Yangon\",\"Yangon\",\"Mandalay\",\"Yangon\",\"Yangon\",\"Yangon\",\"Mandalay\",\"Naypyitaw\",\"Mandalay\",\"Mandalay\",\"Yangon\",\"Yangon\",\"Yangon\",\"Mandalay\",\"Yangon\",\"Mandalay\",\"Yangon\",\"Mandalay\",\"Mandalay\",\"Mandalay\",\"Yangon\",\"Naypyitaw\",\"Naypyitaw\",\"Yangon\",\"Yangon\",\"Naypyitaw\",\"Mandalay\",\"Mandalay\",\"Naypyitaw\",\"Mandalay\",\"Naypyitaw\",\"Naypyitaw\",\"Mandalay\",\"Mandalay\",\"Mandalay\",\"Mandalay\",\"Naypyitaw\",\"Naypyitaw\",\"Yangon\",\"Mandalay\",\"Naypyitaw\",\"Mandalay\",\"Naypyitaw\",\"Yangon\",\"Yangon\",\"Yangon\",\"Naypyitaw\",\"Naypyitaw\",\"Naypyitaw\",\"Mandalay\",\"Yangon\",\"Mandalay\",\"Yangon\",\"Naypyitaw\",\"Mandalay\",\"Yangon\",\"Yangon\",\"Naypyitaw\",\"Naypyitaw\",\"Mandalay\",\"Naypyitaw\",\"Yangon\",\"Naypyitaw\",\"Naypyitaw\",\"Yangon\",\"Naypyitaw\",\"Naypyitaw\",\"Naypyitaw\",\"Mandalay\",\"Naypyitaw\",\"Naypyitaw\",\"Naypyitaw\",\"Naypyitaw\",\"Naypyitaw\",\"Yangon\",\"Yangon\",\"Mandalay\",\"Naypyitaw\",\"Naypyitaw\",\"Yangon\",\"Mandalay\",\"Naypyitaw\",\"Yangon\",\"Mandalay\",\"Naypyitaw\",\"Yangon\",\"Mandalay\",\"Naypyitaw\",\"Naypyitaw\",\"Naypyitaw\",\"Yangon\",\"Mandalay\",\"Yangon\",\"Naypyitaw\",\"Yangon\",\"Naypyitaw\",\"Naypyitaw\",\"Mandalay\",\"Naypyitaw\",\"Mandalay\",\"Yangon\",\"Naypyitaw\",\"Naypyitaw\",\"Mandalay\",\"Mandalay\",\"Yangon\",\"Mandalay\",\"Yangon\",\"Naypyitaw\",\"Mandalay\",\"Naypyitaw\",\"Mandalay\",\"Yangon\",\"Yangon\",\"Naypyitaw\",\"Naypyitaw\",\"Mandalay\",\"Mandalay\",\"Yangon\",\"Mandalay\",\"Mandalay\",\"Naypyitaw\",\"Naypyitaw\",\"Yangon\",\"Yangon\",\"Mandalay\",\"Yangon\",\"Naypyitaw\",\"Naypyitaw\",\"Naypyitaw\",\"Naypyitaw\",\"Yangon\",\"Naypyitaw\",\"Yangon\",\"Naypyitaw\",\"Mandalay\",\"Yangon\",\"Mandalay\",\"Naypyitaw\",\"Yangon\",\"Naypyitaw\",\"Naypyitaw\",\"Yangon\",\"Mandalay\",\"Mandalay\",\"Mandalay\",\"Mandalay\",\"Naypyitaw\",\"Yangon\",\"Yangon\",\"Naypyitaw\",\"Mandalay\",\"Mandalay\",\"Naypyitaw\",\"Yangon\",\"Yangon\",\"Yangon\",\"Yangon\",\"Mandalay\",\"Naypyitaw\",\"Mandalay\",\"Mandalay\",\"Yangon\",\"Yangon\",\"Naypyitaw\",\"Yangon\",\"Naypyitaw\",\"Naypyitaw\",\"Naypyitaw\",\"Yangon\",\"Naypyitaw\",\"Yangon\",\"Mandalay\",\"Mandalay\",\"Mandalay\",\"Yangon\",\"Naypyitaw\",\"Mandalay\",\"Mandalay\",\"Naypyitaw\",\"Mandalay\",\"Yangon\",\"Naypyitaw\",\"Naypyitaw\",\"Yangon\",\"Naypyitaw\",\"Naypyitaw\",\"Naypyitaw\",\"Mandalay\",\"Naypyitaw\",\"Mandalay\",\"Mandalay\",\"Yangon\",\"Naypyitaw\",\"Naypyitaw\",\"Mandalay\",\"Mandalay\",\"Yangon\",\"Naypyitaw\",\"Mandalay\",\"Mandalay\",\"Mandalay\",\"Yangon\",\"Mandalay\",\"Yangon\",\"Mandalay\",\"Mandalay\",\"Mandalay\",\"Mandalay\",\"Naypyitaw\",\"Naypyitaw\",\"Yangon\",\"Naypyitaw\",\"Mandalay\",\"Naypyitaw\",\"Mandalay\",\"Yangon\",\"Mandalay\",\"Mandalay\",\"Mandalay\",\"Mandalay\",\"Yangon\",\"Yangon\",\"Naypyitaw\",\"Naypyitaw\",\"Mandalay\",\"Yangon\",\"Yangon\",\"Yangon\",\"Naypyitaw\",\"Yangon\",\"Mandalay\",\"Yangon\",\"Mandalay\",\"Yangon\",\"Yangon\",\"Mandalay\",\"Mandalay\",\"Naypyitaw\",\"Naypyitaw\",\"Yangon\",\"Yangon\",\"Mandalay\",\"Yangon\",\"Yangon\",\"Yangon\",\"Naypyitaw\",\"Yangon\",\"Naypyitaw\",\"Mandalay\",\"Yangon\",\"Mandalay\",\"Yangon\",\"Naypyitaw\",\"Mandalay\",\"Yangon\",\"Yangon\",\"Mandalay\",\"Naypyitaw\",\"Yangon\",\"Yangon\",\"Mandalay\",\"Mandalay\",\"Naypyitaw\",\"Naypyitaw\",\"Naypyitaw\",\"Yangon\",\"Yangon\",\"Naypyitaw\",\"Yangon\",\"Yangon\",\"Yangon\",\"Mandalay\",\"Naypyitaw\",\"Naypyitaw\",\"Mandalay\",\"Yangon\",\"Mandalay\",\"Naypyitaw\",\"Yangon\",\"Yangon\",\"Mandalay\",\"Naypyitaw\",\"Naypyitaw\",\"Yangon\",\"Yangon\",\"Naypyitaw\",\"Naypyitaw\",\"Mandalay\",\"Naypyitaw\",\"Yangon\",\"Mandalay\",\"Yangon\",\"Yangon\",\"Yangon\",\"Yangon\",\"Yangon\",\"Mandalay\",\"Naypyitaw\",\"Yangon\",\"Yangon\",\"Naypyitaw\",\"Naypyitaw\",\"Naypyitaw\",\"Naypyitaw\",\"Naypyitaw\",\"Naypyitaw\",\"Naypyitaw\",\"Naypyitaw\",\"Yangon\",\"Yangon\",\"Yangon\",\"Mandalay\",\"Yangon\",\"Naypyitaw\",\"Mandalay\",\"Yangon\",\"Mandalay\",\"Yangon\",\"Yangon\",\"Yangon\",\"Naypyitaw\",\"Yangon\",\"Yangon\",\"Mandalay\",\"Naypyitaw\",\"Mandalay\",\"Mandalay\",\"Mandalay\",\"Mandalay\",\"Naypyitaw\",\"Yangon\",\"Yangon\",\"Yangon\",\"Naypyitaw\",\"Yangon\",\"Mandalay\",\"Naypyitaw\",\"Yangon\",\"Mandalay\",\"Mandalay\",\"Naypyitaw\",\"Mandalay\",\"Naypyitaw\",\"Naypyitaw\",\"Mandalay\",\"Mandalay\",\"Yangon\",\"Naypyitaw\",\"Naypyitaw\",\"Yangon\",\"Naypyitaw\",\"Naypyitaw\",\"Naypyitaw\",\"Yangon\",\"Naypyitaw\",\"Yangon\",\"Mandalay\",\"Mandalay\",\"Naypyitaw\",\"Naypyitaw\",\"Yangon\",\"Yangon\",\"Mandalay\",\"Naypyitaw\",\"Naypyitaw\",\"Mandalay\",\"Yangon\",\"Naypyitaw\",\"Mandalay\",\"Naypyitaw\",\"Yangon\",\"Mandalay\",\"Naypyitaw\",\"Yangon\",\"Naypyitaw\",\"Mandalay\",\"Naypyitaw\",\"Mandalay\",\"Yangon\",\"Yangon\",\"Yangon\",\"Yangon\",\"Yangon\",\"Mandalay\",\"Mandalay\",\"Mandalay\",\"Naypyitaw\",\"Naypyitaw\",\"Naypyitaw\",\"Mandalay\",\"Naypyitaw\",\"Yangon\",\"Yangon\",\"Mandalay\",\"Yangon\",\"Naypyitaw\",\"Mandalay\",\"Mandalay\",\"Yangon\",\"Yangon\",\"Yangon\",\"Mandalay\",\"Naypyitaw\",\"Naypyitaw\",\"Mandalay\",\"Yangon\",\"Naypyitaw\",\"Naypyitaw\",\"Naypyitaw\",\"Mandalay\",\"Naypyitaw\",\"Mandalay\",\"Yangon\",\"Mandalay\",\"Mandalay\",\"Yangon\",\"Mandalay\",\"Naypyitaw\",\"Yangon\",\"Mandalay\",\"Mandalay\",\"Naypyitaw\",\"Naypyitaw\",\"Yangon\",\"Naypyitaw\",\"Naypyitaw\",\"Naypyitaw\",\"Mandalay\",\"Yangon\",\"Naypyitaw\",\"Yangon\",\"Mandalay\",\"Naypyitaw\",\"Naypyitaw\",\"Mandalay\",\"Mandalay\",\"Mandalay\",\"Mandalay\",\"Yangon\",\"Yangon\",\"Yangon\",\"Mandalay\",\"Mandalay\",\"Mandalay\",\"Naypyitaw\",\"Naypyitaw\",\"Naypyitaw\",\"Mandalay\",\"Naypyitaw\",\"Naypyitaw\",\"Yangon\",\"Naypyitaw\",\"Naypyitaw\",\"Mandalay\",\"Naypyitaw\",\"Naypyitaw\",\"Naypyitaw\",\"Yangon\",\"Yangon\",\"Mandalay\",\"Yangon\",\"Yangon\",\"Yangon\",\"Naypyitaw\",\"Mandalay\",\"Yangon\",\"Naypyitaw\",\"Naypyitaw\",\"Yangon\",\"Mandalay\",\"Naypyitaw\",\"Mandalay\",\"Mandalay\",\"Yangon\",\"Naypyitaw\",\"Mandalay\",\"Mandalay\",\"Yangon\",\"Mandalay\",\"Naypyitaw\",\"Mandalay\",\"Mandalay\",\"Naypyitaw\",\"Naypyitaw\",\"Mandalay\",\"Yangon\",\"Mandalay\",\"Naypyitaw\",\"Naypyitaw\",\"Mandalay\",\"Mandalay\",\"Yangon\",\"Mandalay\",\"Mandalay\",\"Mandalay\",\"Naypyitaw\",\"Mandalay\",\"Yangon\",\"Yangon\",\"Yangon\",\"Naypyitaw\",\"Naypyitaw\",\"Mandalay\",\"Naypyitaw\",\"Yangon\",\"Naypyitaw\",\"Mandalay\",\"Naypyitaw\",\"Yangon\",\"Naypyitaw\",\"Yangon\",\"Yangon\",\"Mandalay\",\"Mandalay\",\"Mandalay\",\"Yangon\",\"Yangon\",\"Yangon\",\"Mandalay\",\"Naypyitaw\",\"Yangon\",\"Naypyitaw\",\"Mandalay\",\"Yangon\",\"Yangon\",\"Naypyitaw\",\"Yangon\",\"Naypyitaw\",\"Mandalay\",\"Naypyitaw\",\"Mandalay\",\"Mandalay\",\"Yangon\",\"Yangon\",\"Mandalay\",\"Yangon\",\"Mandalay\",\"Mandalay\",\"Mandalay\",\"Naypyitaw\",\"Yangon\",\"Mandalay\",\"Mandalay\",\"Naypyitaw\",\"Yangon\",\"Yangon\",\"Mandalay\",\"Naypyitaw\",\"Mandalay\",\"Yangon\",\"Mandalay\",\"Yangon\",\"Naypyitaw\",\"Yangon\",\"Mandalay\",\"Naypyitaw\",\"Mandalay\",\"Mandalay\",\"Yangon\",\"Mandalay\",\"Yangon\",\"Mandalay\",\"Mandalay\",\"Naypyitaw\",\"Yangon\",\"Mandalay\",\"Naypyitaw\",\"Yangon\",\"Naypyitaw\",\"Mandalay\",\"Mandalay\",\"Yangon\",\"Yangon\",\"Yangon\",\"Naypyitaw\",\"Yangon\",\"Naypyitaw\",\"Naypyitaw\",\"Yangon\",\"Yangon\",\"Mandalay\",\"Mandalay\",\"Yangon\",\"Naypyitaw\",\"Naypyitaw\",\"Yangon\",\"Naypyitaw\",\"Naypyitaw\",\"Naypyitaw\",\"Mandalay\",\"Naypyitaw\",\"Mandalay\",\"Yangon\",\"Naypyitaw\",\"Yangon\",\"Mandalay\",\"Yangon\",\"Naypyitaw\",\"Mandalay\",\"Naypyitaw\",\"Yangon\",\"Yangon\",\"Mandalay\",\"Naypyitaw\",\"Yangon\",\"Naypyitaw\",\"Yangon\",\"Yangon\",\"Mandalay\",\"Mandalay\",\"Mandalay\",\"Mandalay\",\"Yangon\",\"Mandalay\",\"Yangon\",\"Yangon\",\"Yangon\",\"Yangon\",\"Yangon\",\"Mandalay\",\"Mandalay\",\"Mandalay\",\"Yangon\",\"Naypyitaw\",\"Mandalay\",\"Mandalay\",\"Mandalay\",\"Naypyitaw\",\"Mandalay\",\"Naypyitaw\",\"Naypyitaw\",\"Yangon\",\"Naypyitaw\",\"Mandalay\",\"Naypyitaw\",\"Naypyitaw\",\"Mandalay\",\"Mandalay\",\"Yangon\",\"Mandalay\",\"Mandalay\",\"Yangon\",\"Naypyitaw\",\"Yangon\",\"Yangon\",\"Yangon\",\"Mandalay\",\"Naypyitaw\",\"Mandalay\",\"Naypyitaw\",\"Naypyitaw\",\"Yangon\",\"Mandalay\",\"Mandalay\",\"Naypyitaw\",\"Mandalay\",\"Yangon\",\"Mandalay\",\"Mandalay\",\"Naypyitaw\",\"Yangon\",\"Mandalay\",\"Mandalay\",\"Yangon\",\"Naypyitaw\",\"Yangon\",\"Mandalay\",\"Mandalay\",\"Naypyitaw\",\"Yangon\",\"Mandalay\",\"Mandalay\",\"Mandalay\",\"Yangon\",\"Naypyitaw\",\"Yangon\",\"Naypyitaw\",\"Naypyitaw\",\"Yangon\",\"Naypyitaw\",\"Naypyitaw\",\"Yangon\",\"Yangon\",\"Mandalay\",\"Yangon\",\"Naypyitaw\",\"Naypyitaw\",\"Mandalay\",\"Mandalay\",\"Mandalay\",\"Mandalay\",\"Mandalay\",\"Mandalay\",\"Naypyitaw\",\"Naypyitaw\",\"Yangon\",\"Yangon\",\"Naypyitaw\",\"Naypyitaw\",\"Naypyitaw\",\"Naypyitaw\",\"Yangon\",\"Yangon\",\"Yangon\",\"Yangon\",\"Mandalay\",\"Mandalay\",\"Naypyitaw\",\"Mandalay\",\"Naypyitaw\",\"Mandalay\",\"Naypyitaw\",\"Naypyitaw\",\"Mandalay\",\"Naypyitaw\",\"Mandalay\",\"Yangon\",\"Yangon\",\"Yangon\",\"Mandalay\",\"Mandalay\",\"Naypyitaw\",\"Naypyitaw\",\"Naypyitaw\",\"Mandalay\",\"Yangon\",\"Naypyitaw\",\"Naypyitaw\",\"Yangon\",\"Yangon\",\"Naypyitaw\",\"Naypyitaw\",\"Mandalay\",\"Naypyitaw\",\"Mandalay\",\"Naypyitaw\",\"Mandalay\",\"Yangon\",\"Yangon\",\"Mandalay\",\"Naypyitaw\",\"Yangon\",\"Mandalay\",\"Yangon\",\"Yangon\",\"Yangon\",\"Mandalay\",\"Mandalay\",\"Yangon\",\"Yangon\",\"Yangon\",\"Mandalay\",\"Naypyitaw\",\"Mandalay\",\"Mandalay\",\"Yangon\",\"Mandalay\",\"Naypyitaw\",\"Naypyitaw\",\"Naypyitaw\",\"Naypyitaw\",\"Mandalay\",\"Naypyitaw\",\"Mandalay\",\"Naypyitaw\",\"Mandalay\",\"Naypyitaw\",\"Yangon\",\"Yangon\",\"Naypyitaw\",\"Naypyitaw\",\"Yangon\",\"Naypyitaw\",\"Naypyitaw\",\"Naypyitaw\",\"Yangon\",\"Yangon\",\"Naypyitaw\",\"Mandalay\",\"Yangon\",\"Yangon\",\"Mandalay\",\"Naypyitaw\",\"Yangon\",\"Mandalay\",\"Naypyitaw\",\"Mandalay\",\"Naypyitaw\",\"Naypyitaw\",\"Yangon\",\"Mandalay\",\"Yangon\",\"Yangon\",\"Yangon\",\"Mandalay\",\"Naypyitaw\",\"Mandalay\",\"Yangon\",\"Naypyitaw\",\"Yangon\",\"Yangon\",\"Mandalay\",\"Naypyitaw\",\"Yangon\",\"Mandalay\",\"Mandalay\",\"Mandalay\",\"Yangon\",\"Naypyitaw\",\"Yangon\",\"Mandalay\",\"Yangon\",\"Mandalay\",\"Yangon\",\"Naypyitaw\",\"Yangon\",\"Yangon\",\"Mandalay\",\"Mandalay\",\"Yangon\",\"Mandalay\",\"Yangon\",\"Yangon\",\"Mandalay\",\"Naypyitaw\",\"Naypyitaw\",\"Yangon\",\"Mandalay\",\"Yangon\",\"Naypyitaw\",\"Yangon\",\"Yangon\",\"Yangon\",\"Naypyitaw\",\"Naypyitaw\",\"Yangon\",\"Yangon\",\"Yangon\",\"Naypyitaw\",\"Mandalay\",\"Yangon\",\"Mandalay\",\"Mandalay\",\"Yangon\",\"Mandalay\",\"Yangon\",\"Naypyitaw\",\"Yangon\",\"Mandalay\",\"Mandalay\",\"Yangon\",\"Naypyitaw\",\"Mandalay\",\"Naypyitaw\",\"Naypyitaw\",\"Yangon\",\"Yangon\",\"Naypyitaw\",\"Mandalay\",\"Yangon\",\"Yangon\",\"Naypyitaw\",\"Naypyitaw\",\"Mandalay\",\"Yangon\",\"Mandalay\",\"Mandalay\",\"Naypyitaw\",\"Mandalay\",\"Yangon\",\"Yangon\",\"Yangon\",\"Yangon\",\"Yangon\",\"Naypyitaw\",\"Yangon\",\"Naypyitaw\",\"Mandalay\",\"Naypyitaw\",\"Mandalay\",\"Mandalay\",\"Mandalay\",\"Naypyitaw\",\"Naypyitaw\",\"Naypyitaw\",\"Yangon\",\"Naypyitaw\",\"Mandalay\",\"Yangon\",\"Yangon\",\"Naypyitaw\",\"Naypyitaw\",\"Naypyitaw\",\"Mandalay\",\"Yangon\",\"Mandalay\",\"Mandalay\",\"Naypyitaw\",\"Yangon\",\"Yangon\",\"Yangon\",\"Naypyitaw\",\"Naypyitaw\",\"Yangon\",\"Mandalay\",\"Mandalay\",\"Naypyitaw\",\"Mandalay\",\"Naypyitaw\",\"Naypyitaw\",\"Naypyitaw\",\"Mandalay\",\"Mandalay\",\"Yangon\",\"Mandalay\",\"Mandalay\",\"Mandalay\",\"Naypyitaw\",\"Yangon\",\"Naypyitaw\",\"Mandalay\",\"Naypyitaw\",\"Naypyitaw\",\"Yangon\",\"Yangon\",\"Naypyitaw\",\"Yangon\",\"Naypyitaw\",\"Yangon\",\"Yangon\",\"Yangon\",\"Yangon\",\"Naypyitaw\",\"Mandalay\",\"Naypyitaw\",\"Mandalay\",\"Mandalay\",\"Mandalay\",\"Mandalay\",\"Naypyitaw\",\"Mandalay\",\"Yangon\",\"Naypyitaw\",\"Mandalay\",\"Naypyitaw\",\"Yangon\",\"Naypyitaw\",\"Yangon\",\"Yangon\",\"Naypyitaw\",\"Mandalay\",\"Mandalay\",\"Yangon\",\"Yangon\",\"Yangon\",\"Mandalay\",\"Mandalay\",\"Mandalay\",\"Mandalay\",\"Yangon\",\"Naypyitaw\",\"Mandalay\",\"Yangon\",\"Mandalay\",\"Mandalay\",\"Mandalay\",\"Naypyitaw\",\"Yangon\",\"Yangon\",\"Naypyitaw\",\"Naypyitaw\",\"Mandalay\",\"Mandalay\",\"Mandalay\",\"Naypyitaw\",\"Mandalay\",\"Yangon\",\"Mandalay\",\"Yangon\",\"Mandalay\",\"Naypyitaw\",\"Naypyitaw\",\"Mandalay\",\"Yangon\",\"Yangon\",\"Yangon\"],\"xaxis\":\"x\",\"y\":[26.1415,3.82,16.2155,23.288,30.2085,29.8865,20.652,36.78,3.626,8.226,2.896,5.102,11.7375,21.595,35.69,28.116,24.1255,21.783,8.2005,4.03,21.51,13.197,3.32,8.64,13.2945,21.036,1.676,8.767,22.09,11.2005,23.5325,35.1315,33.512,9.658,19.884,3.406,15.655,27.396,21.968,12.048,4.336,5.611,20.736,39.48,1.537,18.792,25.5105,9.0045,5.679,41.315,31.99,11.1475,3.574,0.7715,1.616,34.392,4.434,35.84,36.175,9.183,3.711,16.719,24.7815,7.905,15.148,7.935,3.347,29.283,39.385,0.9165,44.74,31.06,7.278,22.773,33.6015,20.825,22.068,9.0045,39.155,5.095,29.757,14.502,7.7,16.072,12.2275,29.071,19.13,17.283,2.1235,23.097,9.476,22.43,7.693,28.962,4.4875,4.858,43.935,3.735,7.9125,24.81,2.4355,35.3475,10.3815,17.478,10.6225,44.335,8.214,18.639,15.291,40.985,1.649,14.7315,25.494,26.1315,36.3555,4.053,5.485,2.568,5.48,5.344,39.824,19.992,44.982,25.564,22.588,32.7915,8.0625,14.2785,27.416,40.626,13.867,27.639,6.968,26.235,24.39,13.533,6.5775,10.326,25.955,29.0,44.9,45.25,34.3,1.5205,23.385,13.878,15.07,13.228,28.744,12.984,18.308,12.096,37.458,4.944,32.388,23.0725,3.6085,12.57,43.749,28.017,17.272,3.1845,16.0265,7.64,19.95,17.028,47.79,49.49,15.384,24.332,17.5025,20.0125,8.34,15.867,7.916,15.228,8.868,7.8785,22.164,13.02,22.491,15.388,7.75,13.724,4.319,2.712,37.796,9.294,3.7035,13.962,11.556,7.352,39.51,5.11,8.1775,3.7145,4.37,1.2645,8.3,17.8475,5.745,11.498,21.4935,12.95,4.4425,10.3635,29.9925,14.265,4.5555,44.8785,11.8035,41.967,23.09,6.963,10.3635,0.914,6.1925,14.196,37.948,8.601,13.605,21.728,2.9525,0.627,4.325,8.716,31.2165,7.412,27.21,25.368,8.137,1.5885,37.8405,14.764,25.97,9.314,4.3525,11.055,3.305,4.4845,11.223,5.977,9.32,12.53,37.548,19.036,12.21,4.485,15.544,25.571,20.9475,17.595,1.439,4.75,23.56,6.524,3.3175,7.773,6.45,13.188,33.777,3.29,7.66,11.12,2.7225,34.44,7.094,37.3,14.148,17.77,16.8575,2.112,9.693,1.203,29.913,16.7895,10.91,19.084,35.495,22.01,27.984,1.85,0.767,29.949,9.534,16.67,3.743,10.6875,16.9785,33.208,20.15,9.7475,3.124,3.636,9.055,12.98,5.768,23.514,12.002,4.4305,9.982,1.9505,2.4305,10.238,5.984,25.27,14.0805,35.516,3.972,8.191,23.979,6.933,3.5575,6.9975,39.065,9.937,3.162,18.6975,10.3845,8.814,10.3185,1.971,4.578,15.4425,6.456,19.548,24.945,18.852,10.226,7.272,9.909,4.935,19.255,2.348,3.675,7.1125,34.38,17.385,7.1475,19.269,7.2135,19.5895,26.915,24.2575,6.6975,35.0685,3.5975,35.7,9.107,6.75,49.65,18.0915,19.1555,12.15,1.512,17.828,18.775,47.72,4.125,3.7485,32.384,37.788,9.979,21.966,8.248,16.336,23.094,13.188,7.18,9.675,9.191,6.096,21.033,12.624,16.7725,24.175,15.921,33.4215,19.396,4.73,16.466,2.661,24.9225,14.978,10.235,3.791,14.031,16.16,24.3315,6.377,12.072,18.975,3.841,26.13,3.987,19.375,13.5675,6.1155,12.318,8.658,11.829,9.244,0.699,9.9375,34.2265,13.452,3.4475,13.742,11.306,5.955,17.105,2.187,5.2425,3.876,20.372,4.8055,9.076,4.0755,5.722,8.827,5.79,12.6075,48.605,10.168,0.814,18.2745,18.6095,3.1305,16.8175,45.325,6.908,4.327,7.038,33.439,2.372,44.658,16.586,10.197,3.408,16.344,4.36,35.372,40.1445,0.639,6.685,0.9575,13.83,6.861,1.3535,1.956,22.413,6.603,15.9025,1.25,4.154,7.39,34.83,39.695,23.285,1.7945,10.13,36.525,14.79,1.131,12.835,27.275,13.0025,11.106,1.079,4.942,25.131,8.01,21.565,29.028,16.11,9.777,8.315,16.814,17.185,1.93,26.388,16.4,9.285,30.19,18.49,9.898,20.545,7.43,1.148,34.956,3.47,9.83,10.128,6.06,9.989,30.368,6.322,27.072,4.9065,20.608,3.6985,1.595,6.94,9.331,4.4225,9.672,7.275,25.215,15.3225,4.785,31.759,10.7275,18.998,34.8425,20.4365,2.5735,13.715,9.8475,3.473,17.98,6.8565,24.951,11.232,6.287,24.513,22.8525,7.842,5.986,27.18,44.1405,7.629,34.672,11.475,7.3395,7.08,5.8345,3.698,4.897,14.61,26.244,4.602,3.794,4.036,5.631,3.56,7.762,14.71,27.4275,12.885,19.818,8.5905,24.4395,26.208,6.663,6.762,5.622,7.204,49.26,12.498,10.863,9.711,44.6,16.968,22.353,9.925,40.605,24.665,29.583,27.951,25.893,20.51,13.335,3.5455,7.239,21.4775,28.4585,12.06,6.354,12.854,6.951,4.083,15.536,9.298,3.616,9.459,10.342,7.851,10.765,29.805,3.655,13.959,8.484,2.279,11.28,14.52,2.223,7.83,20.997,9.2125,7.032,4.154,3.2495,38.78,16.353,18.1615,6.35,18.7775,9.958,1.5305,5.789,1.448,44.5365,13.983,4.0465,33.725,17.424,21.78,21.9775,29.559,13.038,10.752,4.5805,33.1065,41.625,4.5675,7.888,6.087,41.29,7.995,0.6045,32.095,11.7465,8.377,14.955,11.9865,33.235,10.1325,2.31,4.4075,7.863,14.8185,35.42,5.567,29.008,3.0125,8.712,21.063,1.6815,1.549,12.37,18.915,16.743,36.39,16.794,12.036,2.3535,4.9845,13.2225,6.9825,2.7725,6.4455,5.999,17.625,43.55,9.88,9.726,8.661,3.594,14.313,4.062,28.02,9.34,11.0115,13.456,22.74,8.377,22.428,14.694,29.475,14.55,1.974,1.7405,14.796,2.148,6.924,4.91,6.483,31.78,7.288,10.065,31.5855,19.264,24.315,25.683,23.67,21.8425,5.408,12.438,31.311,48.75,24.164,4.848,9.885,36.2115,39.7755,25.1195,8.6,3.449,6.248,3.855,24.186,15.106,34.9335,6.2325,39.48,8.92,25.011,1.791,6.807,5.244,8.946,40.7835,6.618,12.8695,4.668,11.4,8.3355,34.87,19.452,18.263,4.464,8.4,0.985,26.558,2.686,40.975,28.42,29.38,36.624,42.282,19.4635,4.2415,7.163,3.769,12.668,1.921,32.615,2.6325,5.5305,28.4305,4.464,6.82,8.71,18.32,12.7305,38.916,14.296,28.956,9.425,11.078,38.6,36.065,25.552,2.6725,11.1,38.184,11.409,4.107,19.128,3.429,19.108,30.0545,23.7965,2.621,6.565,7.215,22.8585,4.669,6.3125,39.5415,8.72,18.952,1.531,17.604,2.54,26.103,28.756,2.7475,9.0705,20.6185,2.3205,13.71,48.685,32.41,4.661,2.718,3.0435,12.245,4.639,21.6725,6.903,12.08,23.5865,22.032,34.0155,15.494,9.318,10.046,0.8875,31.09,4.3,20.13,16.2425,4.7575,19.448,21.284,15.904,13.552,19.232,11.79,10.578,4.768,0.5085,10.3065,21.028,4.402,32.4495,6.192,32.475,37.11,4.224,12.514,4.74,4.565,14.2555,2.619,9.635,13.389,27.935,8.766,7.791,3.015,3.947,1.487,1.066,14.067,3.663,1.119,32.796,29.73,3.705,9.848,18.6165,26.395,23.9875,16.4295,8.448,5.662,17.277,21.4335,4.3135,1.276,5.076,17.8745,11.9385,5.0715,36.212,6.282,3.6465,12.918,8.687,2.825,10.715,26.718,4.658,26.104,2.6175,1.9875,36.008,4.84,16.605,4.072,15.995,10.326,8.334,15.953,4.395,36.735,4.876,38.46,20.915,23.164,23.1225,7.095,15.135,39.664,21.259,14.181,29.96,15.768,20.178,9.194,6.9325,4.0355,5.832,15.676,42.305,20.72,7.954,24.505,4.3725,11.226,37.248,20.536,14.94,10.647,2.1425,18.934,10.3455,3.939,16.1055,4.911,1.273,29.099,10.566,2.756,4.4155,17.829,39.7125,2.531,29.976,8.335,37.22,22.428,18.945,12.858,27.6115,22.37,13.8135,17.187,13.304,44.919,22.84,12.6975,3.528,32.858,8.425,2.689,8.9525,10.572,5.9865,3.285,12.57,4.208,19.773,14.8995,22.7205,13.806,7.9,44.397,4.599,2.089,0.775,14.523,3.333,3.827,14.985,12.1515,2.37,8.6225,42.315,12.9185,30.478,12.012,8.613,4.992,14.932,7.98,1.2725,3.3885,11.918,11.63,43.866,34.986,33.7295,15.9275,1.476,24.8,41.17,30.148,14.14,38.3,5.803,8.745,3.0475,2.0175,48.69,1.592,3.291,30.919],\"yaxis\":\"y\",\"type\":\"bar\"}],                        {\"template\":{\"data\":{\"histogram2dcontour\":[{\"type\":\"histogram2dcontour\",\"colorbar\":{\"outlinewidth\":0,\"ticks\":\"\"},\"colorscale\":[[0.0,\"#0d0887\"],[0.1111111111111111,\"#46039f\"],[0.2222222222222222,\"#7201a8\"],[0.3333333333333333,\"#9c179e\"],[0.4444444444444444,\"#bd3786\"],[0.5555555555555556,\"#d8576b\"],[0.6666666666666666,\"#ed7953\"],[0.7777777777777778,\"#fb9f3a\"],[0.8888888888888888,\"#fdca26\"],[1.0,\"#f0f921\"]]}],\"choropleth\":[{\"type\":\"choropleth\",\"colorbar\":{\"outlinewidth\":0,\"ticks\":\"\"}}],\"histogram2d\":[{\"type\":\"histogram2d\",\"colorbar\":{\"outlinewidth\":0,\"ticks\":\"\"},\"colorscale\":[[0.0,\"#0d0887\"],[0.1111111111111111,\"#46039f\"],[0.2222222222222222,\"#7201a8\"],[0.3333333333333333,\"#9c179e\"],[0.4444444444444444,\"#bd3786\"],[0.5555555555555556,\"#d8576b\"],[0.6666666666666666,\"#ed7953\"],[0.7777777777777778,\"#fb9f3a\"],[0.8888888888888888,\"#fdca26\"],[1.0,\"#f0f921\"]]}],\"heatmap\":[{\"type\":\"heatmap\",\"colorbar\":{\"outlinewidth\":0,\"ticks\":\"\"},\"colorscale\":[[0.0,\"#0d0887\"],[0.1111111111111111,\"#46039f\"],[0.2222222222222222,\"#7201a8\"],[0.3333333333333333,\"#9c179e\"],[0.4444444444444444,\"#bd3786\"],[0.5555555555555556,\"#d8576b\"],[0.6666666666666666,\"#ed7953\"],[0.7777777777777778,\"#fb9f3a\"],[0.8888888888888888,\"#fdca26\"],[1.0,\"#f0f921\"]]}],\"heatmapgl\":[{\"type\":\"heatmapgl\",\"colorbar\":{\"outlinewidth\":0,\"ticks\":\"\"},\"colorscale\":[[0.0,\"#0d0887\"],[0.1111111111111111,\"#46039f\"],[0.2222222222222222,\"#7201a8\"],[0.3333333333333333,\"#9c179e\"],[0.4444444444444444,\"#bd3786\"],[0.5555555555555556,\"#d8576b\"],[0.6666666666666666,\"#ed7953\"],[0.7777777777777778,\"#fb9f3a\"],[0.8888888888888888,\"#fdca26\"],[1.0,\"#f0f921\"]]}],\"contourcarpet\":[{\"type\":\"contourcarpet\",\"colorbar\":{\"outlinewidth\":0,\"ticks\":\"\"}}],\"contour\":[{\"type\":\"contour\",\"colorbar\":{\"outlinewidth\":0,\"ticks\":\"\"},\"colorscale\":[[0.0,\"#0d0887\"],[0.1111111111111111,\"#46039f\"],[0.2222222222222222,\"#7201a8\"],[0.3333333333333333,\"#9c179e\"],[0.4444444444444444,\"#bd3786\"],[0.5555555555555556,\"#d8576b\"],[0.6666666666666666,\"#ed7953\"],[0.7777777777777778,\"#fb9f3a\"],[0.8888888888888888,\"#fdca26\"],[1.0,\"#f0f921\"]]}],\"surface\":[{\"type\":\"surface\",\"colorbar\":{\"outlinewidth\":0,\"ticks\":\"\"},\"colorscale\":[[0.0,\"#0d0887\"],[0.1111111111111111,\"#46039f\"],[0.2222222222222222,\"#7201a8\"],[0.3333333333333333,\"#9c179e\"],[0.4444444444444444,\"#bd3786\"],[0.5555555555555556,\"#d8576b\"],[0.6666666666666666,\"#ed7953\"],[0.7777777777777778,\"#fb9f3a\"],[0.8888888888888888,\"#fdca26\"],[1.0,\"#f0f921\"]]}],\"mesh3d\":[{\"type\":\"mesh3d\",\"colorbar\":{\"outlinewidth\":0,\"ticks\":\"\"}}],\"scatter\":[{\"fillpattern\":{\"fillmode\":\"overlay\",\"size\":10,\"solidity\":0.2},\"type\":\"scatter\"}],\"parcoords\":[{\"type\":\"parcoords\",\"line\":{\"colorbar\":{\"outlinewidth\":0,\"ticks\":\"\"}}}],\"scatterpolargl\":[{\"type\":\"scatterpolargl\",\"marker\":{\"colorbar\":{\"outlinewidth\":0,\"ticks\":\"\"}}}],\"bar\":[{\"error_x\":{\"color\":\"#2a3f5f\"},\"error_y\":{\"color\":\"#2a3f5f\"},\"marker\":{\"line\":{\"color\":\"#E5ECF6\",\"width\":0.5},\"pattern\":{\"fillmode\":\"overlay\",\"size\":10,\"solidity\":0.2}},\"type\":\"bar\"}],\"scattergeo\":[{\"type\":\"scattergeo\",\"marker\":{\"colorbar\":{\"outlinewidth\":0,\"ticks\":\"\"}}}],\"scatterpolar\":[{\"type\":\"scatterpolar\",\"marker\":{\"colorbar\":{\"outlinewidth\":0,\"ticks\":\"\"}}}],\"histogram\":[{\"marker\":{\"pattern\":{\"fillmode\":\"overlay\",\"size\":10,\"solidity\":0.2}},\"type\":\"histogram\"}],\"scattergl\":[{\"type\":\"scattergl\",\"marker\":{\"colorbar\":{\"outlinewidth\":0,\"ticks\":\"\"}}}],\"scatter3d\":[{\"type\":\"scatter3d\",\"line\":{\"colorbar\":{\"outlinewidth\":0,\"ticks\":\"\"}},\"marker\":{\"colorbar\":{\"outlinewidth\":0,\"ticks\":\"\"}}}],\"scattermapbox\":[{\"type\":\"scattermapbox\",\"marker\":{\"colorbar\":{\"outlinewidth\":0,\"ticks\":\"\"}}}],\"scatterternary\":[{\"type\":\"scatterternary\",\"marker\":{\"colorbar\":{\"outlinewidth\":0,\"ticks\":\"\"}}}],\"scattercarpet\":[{\"type\":\"scattercarpet\",\"marker\":{\"colorbar\":{\"outlinewidth\":0,\"ticks\":\"\"}}}],\"carpet\":[{\"aaxis\":{\"endlinecolor\":\"#2a3f5f\",\"gridcolor\":\"white\",\"linecolor\":\"white\",\"minorgridcolor\":\"white\",\"startlinecolor\":\"#2a3f5f\"},\"baxis\":{\"endlinecolor\":\"#2a3f5f\",\"gridcolor\":\"white\",\"linecolor\":\"white\",\"minorgridcolor\":\"white\",\"startlinecolor\":\"#2a3f5f\"},\"type\":\"carpet\"}],\"table\":[{\"cells\":{\"fill\":{\"color\":\"#EBF0F8\"},\"line\":{\"color\":\"white\"}},\"header\":{\"fill\":{\"color\":\"#C8D4E3\"},\"line\":{\"color\":\"white\"}},\"type\":\"table\"}],\"barpolar\":[{\"marker\":{\"line\":{\"color\":\"#E5ECF6\",\"width\":0.5},\"pattern\":{\"fillmode\":\"overlay\",\"size\":10,\"solidity\":0.2}},\"type\":\"barpolar\"}],\"pie\":[{\"automargin\":true,\"type\":\"pie\"}]},\"layout\":{\"autotypenumbers\":\"strict\",\"colorway\":[\"#636efa\",\"#EF553B\",\"#00cc96\",\"#ab63fa\",\"#FFA15A\",\"#19d3f3\",\"#FF6692\",\"#B6E880\",\"#FF97FF\",\"#FECB52\"],\"font\":{\"color\":\"#2a3f5f\"},\"hovermode\":\"closest\",\"hoverlabel\":{\"align\":\"left\"},\"paper_bgcolor\":\"white\",\"plot_bgcolor\":\"#E5ECF6\",\"polar\":{\"bgcolor\":\"#E5ECF6\",\"angularaxis\":{\"gridcolor\":\"white\",\"linecolor\":\"white\",\"ticks\":\"\"},\"radialaxis\":{\"gridcolor\":\"white\",\"linecolor\":\"white\",\"ticks\":\"\"}},\"ternary\":{\"bgcolor\":\"#E5ECF6\",\"aaxis\":{\"gridcolor\":\"white\",\"linecolor\":\"white\",\"ticks\":\"\"},\"baxis\":{\"gridcolor\":\"white\",\"linecolor\":\"white\",\"ticks\":\"\"},\"caxis\":{\"gridcolor\":\"white\",\"linecolor\":\"white\",\"ticks\":\"\"}},\"coloraxis\":{\"colorbar\":{\"outlinewidth\":0,\"ticks\":\"\"}},\"colorscale\":{\"sequential\":[[0.0,\"#0d0887\"],[0.1111111111111111,\"#46039f\"],[0.2222222222222222,\"#7201a8\"],[0.3333333333333333,\"#9c179e\"],[0.4444444444444444,\"#bd3786\"],[0.5555555555555556,\"#d8576b\"],[0.6666666666666666,\"#ed7953\"],[0.7777777777777778,\"#fb9f3a\"],[0.8888888888888888,\"#fdca26\"],[1.0,\"#f0f921\"]],\"sequentialminus\":[[0.0,\"#0d0887\"],[0.1111111111111111,\"#46039f\"],[0.2222222222222222,\"#7201a8\"],[0.3333333333333333,\"#9c179e\"],[0.4444444444444444,\"#bd3786\"],[0.5555555555555556,\"#d8576b\"],[0.6666666666666666,\"#ed7953\"],[0.7777777777777778,\"#fb9f3a\"],[0.8888888888888888,\"#fdca26\"],[1.0,\"#f0f921\"]],\"diverging\":[[0,\"#8e0152\"],[0.1,\"#c51b7d\"],[0.2,\"#de77ae\"],[0.3,\"#f1b6da\"],[0.4,\"#fde0ef\"],[0.5,\"#f7f7f7\"],[0.6,\"#e6f5d0\"],[0.7,\"#b8e186\"],[0.8,\"#7fbc41\"],[0.9,\"#4d9221\"],[1,\"#276419\"]]},\"xaxis\":{\"gridcolor\":\"white\",\"linecolor\":\"white\",\"ticks\":\"\",\"title\":{\"standoff\":15},\"zerolinecolor\":\"white\",\"automargin\":true,\"zerolinewidth\":2},\"yaxis\":{\"gridcolor\":\"white\",\"linecolor\":\"white\",\"ticks\":\"\",\"title\":{\"standoff\":15},\"zerolinecolor\":\"white\",\"automargin\":true,\"zerolinewidth\":2},\"scene\":{\"xaxis\":{\"backgroundcolor\":\"#E5ECF6\",\"gridcolor\":\"white\",\"linecolor\":\"white\",\"showbackground\":true,\"ticks\":\"\",\"zerolinecolor\":\"white\",\"gridwidth\":2},\"yaxis\":{\"backgroundcolor\":\"#E5ECF6\",\"gridcolor\":\"white\",\"linecolor\":\"white\",\"showbackground\":true,\"ticks\":\"\",\"zerolinecolor\":\"white\",\"gridwidth\":2},\"zaxis\":{\"backgroundcolor\":\"#E5ECF6\",\"gridcolor\":\"white\",\"linecolor\":\"white\",\"showbackground\":true,\"ticks\":\"\",\"zerolinecolor\":\"white\",\"gridwidth\":2}},\"shapedefaults\":{\"line\":{\"color\":\"#2a3f5f\"}},\"annotationdefaults\":{\"arrowcolor\":\"#2a3f5f\",\"arrowhead\":0,\"arrowwidth\":1},\"geo\":{\"bgcolor\":\"white\",\"landcolor\":\"#E5ECF6\",\"subunitcolor\":\"white\",\"showland\":true,\"showlakes\":true,\"lakecolor\":\"white\"},\"title\":{\"x\":0.05},\"mapbox\":{\"style\":\"light\"}}},\"xaxis\":{\"anchor\":\"y\",\"domain\":[0.0,1.0],\"title\":{\"text\":\"City\"}},\"yaxis\":{\"anchor\":\"x\",\"domain\":[0.0,1.0],\"title\":{\"text\":\"gross income\"}},\"legend\":{\"tracegroupgap\":0},\"margin\":{\"t\":60},\"barmode\":\"relative\"},                        {\"responsive\": true}                    )                };                            </script>        </div>"
      ],
      "text/plain": [
       "Figure({\n",
       "    'data': [{'alignmentgroup': 'True',\n",
       "              'hovertemplate': 'City=%{x}<br>gross income=%{y}<extra></extra>',\n",
       "              'legendgroup': '',\n",
       "              'marker': {'color': '#636efa', 'pattern': {'shape': ''}},\n",
       "              'name': '',\n",
       "              'offsetgroup': '',\n",
       "              'orientation': 'v',\n",
       "              'showlegend': False,\n",
       "              'textposition': 'auto',\n",
       "              'type': 'bar',\n",
       "              'x': array(['Yangon', 'Naypyitaw', 'Yangon', ..., 'Yangon', 'Yangon', 'Yangon'],\n",
       "                         dtype=object),\n",
       "              'xaxis': 'x',\n",
       "              'y': array([26.1415,  3.82  , 16.2155, ...,  1.592 ,  3.291 , 30.919 ]),\n",
       "              'yaxis': 'y'}],\n",
       "    'layout': {'barmode': 'relative',\n",
       "               'legend': {'tracegroupgap': 0},\n",
       "               'margin': {'t': 60},\n",
       "               'template': '...',\n",
       "               'xaxis': {'anchor': 'y', 'domain': [0.0, 1.0], 'title': {'text': 'City'}},\n",
       "               'yaxis': {'anchor': 'x', 'domain': [0.0, 1.0], 'title': {'text': 'gross income'}}}\n",
       "})"
      ]
     },
     "execution_count": 38,
     "metadata": {},
     "output_type": "execute_result"
    }
   ],
   "source": [
    "px.bar(df_city, x='City', y='gross income')"
   ]
  },
  {
   "cell_type": "code",
   "execution_count": 64,
   "metadata": {},
   "outputs": [],
   "source": [
    "cities = df['City'].unique()\n",
    "main_variable = 'gross income'"
   ]
  },
  {
   "cell_type": "code",
   "execution_count": 65,
   "metadata": {},
   "outputs": [],
   "source": [
    "df_filtered = df[df['City'].isin(cities)]\n",
    "if main_variable == 'Rating':\n",
    "    df_city = df_filtered.groupby('City')[[main_variable]].mean().reset_index()\n",
    "    df_pay = df_filtered.groupby('Payment')[[main_variable]].mean().reset_index()    \n",
    "    df_product = df_filtered.groupby(['Product line', 'City'])[[main_variable]].mean().reset_index()\n",
    "else:\n",
    "    df_city = df_filtered.groupby('City')[[main_variable]].sum().reset_index()\n",
    "    df_pay = df_filtered.groupby('Payment')[[main_variable]].sum().reset_index()    \n",
    "    df_product = df_filtered.groupby(['Product line', 'City'])[[main_variable]].sum().reset_index()\n",
    "\n",
    "city_fig = px.bar(df_city, x='City', y=main_variable)\n",
    "pay_fig = px.bar(df_pay, y='Payment', x=main_variable)\n",
    "product_fig = px.bar(df_product, x='Product line', y=main_variable, color='City')\n"
   ]
  },
  {
   "cell_type": "code",
   "execution_count": 66,
   "metadata": {},
   "outputs": [
    {
     "ename": "ValueError",
     "evalue": "Mime type rendering requires nbformat>=4.2.0 but it is not installed",
     "output_type": "error",
     "traceback": [
      "\u001b[1;31m---------------------------------------------------------------------------\u001b[0m",
      "\u001b[1;31mValueError\u001b[0m                                Traceback (most recent call last)",
      "File \u001b[1;32mc:\\Users\\Douglas Tinoco\\Documents\\Programacao\\python-dashboard\\venv\\Lib\\site-packages\\IPython\\core\\formatters.py:922\u001b[0m, in \u001b[0;36mIPythonDisplayFormatter.__call__\u001b[1;34m(self, obj)\u001b[0m\n\u001b[0;32m    920\u001b[0m method \u001b[38;5;241m=\u001b[39m get_real_method(obj, \u001b[38;5;28mself\u001b[39m\u001b[38;5;241m.\u001b[39mprint_method)\n\u001b[0;32m    921\u001b[0m \u001b[38;5;28;01mif\u001b[39;00m method \u001b[38;5;129;01mis\u001b[39;00m \u001b[38;5;129;01mnot\u001b[39;00m \u001b[38;5;28;01mNone\u001b[39;00m:\n\u001b[1;32m--> 922\u001b[0m     \u001b[43mmethod\u001b[49m\u001b[43m(\u001b[49m\u001b[43m)\u001b[49m\n\u001b[0;32m    923\u001b[0m     \u001b[38;5;28;01mreturn\u001b[39;00m \u001b[38;5;28;01mTrue\u001b[39;00m\n",
      "File \u001b[1;32mc:\\Users\\Douglas Tinoco\\Documents\\Programacao\\python-dashboard\\venv\\Lib\\site-packages\\plotly\\basedatatypes.py:832\u001b[0m, in \u001b[0;36mBaseFigure._ipython_display_\u001b[1;34m(self)\u001b[0m\n\u001b[0;32m    829\u001b[0m \u001b[38;5;28;01mimport\u001b[39;00m \u001b[38;5;21;01mplotly\u001b[39;00m\u001b[38;5;21;01m.\u001b[39;00m\u001b[38;5;21;01mio\u001b[39;00m \u001b[38;5;28;01mas\u001b[39;00m \u001b[38;5;21;01mpio\u001b[39;00m\n\u001b[0;32m    831\u001b[0m \u001b[38;5;28;01mif\u001b[39;00m pio\u001b[38;5;241m.\u001b[39mrenderers\u001b[38;5;241m.\u001b[39mrender_on_display \u001b[38;5;129;01mand\u001b[39;00m pio\u001b[38;5;241m.\u001b[39mrenderers\u001b[38;5;241m.\u001b[39mdefault:\n\u001b[1;32m--> 832\u001b[0m     \u001b[43mpio\u001b[49m\u001b[38;5;241;43m.\u001b[39;49m\u001b[43mshow\u001b[49m\u001b[43m(\u001b[49m\u001b[38;5;28;43mself\u001b[39;49m\u001b[43m)\u001b[49m\n\u001b[0;32m    833\u001b[0m \u001b[38;5;28;01melse\u001b[39;00m:\n\u001b[0;32m    834\u001b[0m     \u001b[38;5;28mprint\u001b[39m(\u001b[38;5;28mrepr\u001b[39m(\u001b[38;5;28mself\u001b[39m))\n",
      "File \u001b[1;32mc:\\Users\\Douglas Tinoco\\Documents\\Programacao\\python-dashboard\\venv\\Lib\\site-packages\\plotly\\io\\_renderers.py:394\u001b[0m, in \u001b[0;36mshow\u001b[1;34m(fig, renderer, validate, **kwargs)\u001b[0m\n\u001b[0;32m    389\u001b[0m         \u001b[38;5;28;01mraise\u001b[39;00m \u001b[38;5;167;01mValueError\u001b[39;00m(\n\u001b[0;32m    390\u001b[0m             \u001b[38;5;124m\"\u001b[39m\u001b[38;5;124mMime type rendering requires ipython but it is not installed\u001b[39m\u001b[38;5;124m\"\u001b[39m\n\u001b[0;32m    391\u001b[0m         )\n\u001b[0;32m    393\u001b[0m     \u001b[38;5;28;01mif\u001b[39;00m \u001b[38;5;129;01mnot\u001b[39;00m nbformat \u001b[38;5;129;01mor\u001b[39;00m Version(nbformat\u001b[38;5;241m.\u001b[39m__version__) \u001b[38;5;241m<\u001b[39m Version(\u001b[38;5;124m\"\u001b[39m\u001b[38;5;124m4.2.0\u001b[39m\u001b[38;5;124m\"\u001b[39m):\n\u001b[1;32m--> 394\u001b[0m         \u001b[38;5;28;01mraise\u001b[39;00m \u001b[38;5;167;01mValueError\u001b[39;00m(\n\u001b[0;32m    395\u001b[0m             \u001b[38;5;124m\"\u001b[39m\u001b[38;5;124mMime type rendering requires nbformat>=4.2.0 but it is not installed\u001b[39m\u001b[38;5;124m\"\u001b[39m\n\u001b[0;32m    396\u001b[0m         )\n\u001b[0;32m    398\u001b[0m     ipython_display\u001b[38;5;241m.\u001b[39mdisplay(bundle, raw\u001b[38;5;241m=\u001b[39m\u001b[38;5;28;01mTrue\u001b[39;00m)\n\u001b[0;32m    400\u001b[0m \u001b[38;5;66;03m# external renderers\u001b[39;00m\n",
      "\u001b[1;31mValueError\u001b[0m: Mime type rendering requires nbformat>=4.2.0 but it is not installed"
     ]
    },
    {
     "data": {
      "application/vnd.plotly.v1+json": {
       "config": {
        "plotlyServerURL": "https://plot.ly"
       },
       "data": [
        {
         "alignmentgroup": "True",
         "hovertemplate": "gross income=%{x}<br>Payment=%{y}<extra></extra>",
         "legendgroup": "",
         "marker": {
          "color": "#636efa",
          "pattern": {
           "shape": ""
          }
         },
         "name": "",
         "offsetgroup": "",
         "orientation": "h",
         "showlegend": false,
         "textposition": "auto",
         "type": "bar",
         "x": [
          5343.17,
          4798.432,
          5237.767
         ],
         "xaxis": "x",
         "y": [
          "Cash",
          "Credit card",
          "Ewallet"
         ],
         "yaxis": "y"
        }
       ],
       "layout": {
        "barmode": "relative",
        "legend": {
         "tracegroupgap": 0
        },
        "margin": {
         "t": 60
        },
        "template": {
         "data": {
          "bar": [
           {
            "error_x": {
             "color": "#2a3f5f"
            },
            "error_y": {
             "color": "#2a3f5f"
            },
            "marker": {
             "line": {
              "color": "#E5ECF6",
              "width": 0.5
             },
             "pattern": {
              "fillmode": "overlay",
              "size": 10,
              "solidity": 0.2
             }
            },
            "type": "bar"
           }
          ],
          "barpolar": [
           {
            "marker": {
             "line": {
              "color": "#E5ECF6",
              "width": 0.5
             },
             "pattern": {
              "fillmode": "overlay",
              "size": 10,
              "solidity": 0.2
             }
            },
            "type": "barpolar"
           }
          ],
          "carpet": [
           {
            "aaxis": {
             "endlinecolor": "#2a3f5f",
             "gridcolor": "white",
             "linecolor": "white",
             "minorgridcolor": "white",
             "startlinecolor": "#2a3f5f"
            },
            "baxis": {
             "endlinecolor": "#2a3f5f",
             "gridcolor": "white",
             "linecolor": "white",
             "minorgridcolor": "white",
             "startlinecolor": "#2a3f5f"
            },
            "type": "carpet"
           }
          ],
          "choropleth": [
           {
            "colorbar": {
             "outlinewidth": 0,
             "ticks": ""
            },
            "type": "choropleth"
           }
          ],
          "contour": [
           {
            "colorbar": {
             "outlinewidth": 0,
             "ticks": ""
            },
            "colorscale": [
             [
              0,
              "#0d0887"
             ],
             [
              0.1111111111111111,
              "#46039f"
             ],
             [
              0.2222222222222222,
              "#7201a8"
             ],
             [
              0.3333333333333333,
              "#9c179e"
             ],
             [
              0.4444444444444444,
              "#bd3786"
             ],
             [
              0.5555555555555556,
              "#d8576b"
             ],
             [
              0.6666666666666666,
              "#ed7953"
             ],
             [
              0.7777777777777778,
              "#fb9f3a"
             ],
             [
              0.8888888888888888,
              "#fdca26"
             ],
             [
              1,
              "#f0f921"
             ]
            ],
            "type": "contour"
           }
          ],
          "contourcarpet": [
           {
            "colorbar": {
             "outlinewidth": 0,
             "ticks": ""
            },
            "type": "contourcarpet"
           }
          ],
          "heatmap": [
           {
            "colorbar": {
             "outlinewidth": 0,
             "ticks": ""
            },
            "colorscale": [
             [
              0,
              "#0d0887"
             ],
             [
              0.1111111111111111,
              "#46039f"
             ],
             [
              0.2222222222222222,
              "#7201a8"
             ],
             [
              0.3333333333333333,
              "#9c179e"
             ],
             [
              0.4444444444444444,
              "#bd3786"
             ],
             [
              0.5555555555555556,
              "#d8576b"
             ],
             [
              0.6666666666666666,
              "#ed7953"
             ],
             [
              0.7777777777777778,
              "#fb9f3a"
             ],
             [
              0.8888888888888888,
              "#fdca26"
             ],
             [
              1,
              "#f0f921"
             ]
            ],
            "type": "heatmap"
           }
          ],
          "heatmapgl": [
           {
            "colorbar": {
             "outlinewidth": 0,
             "ticks": ""
            },
            "colorscale": [
             [
              0,
              "#0d0887"
             ],
             [
              0.1111111111111111,
              "#46039f"
             ],
             [
              0.2222222222222222,
              "#7201a8"
             ],
             [
              0.3333333333333333,
              "#9c179e"
             ],
             [
              0.4444444444444444,
              "#bd3786"
             ],
             [
              0.5555555555555556,
              "#d8576b"
             ],
             [
              0.6666666666666666,
              "#ed7953"
             ],
             [
              0.7777777777777778,
              "#fb9f3a"
             ],
             [
              0.8888888888888888,
              "#fdca26"
             ],
             [
              1,
              "#f0f921"
             ]
            ],
            "type": "heatmapgl"
           }
          ],
          "histogram": [
           {
            "marker": {
             "pattern": {
              "fillmode": "overlay",
              "size": 10,
              "solidity": 0.2
             }
            },
            "type": "histogram"
           }
          ],
          "histogram2d": [
           {
            "colorbar": {
             "outlinewidth": 0,
             "ticks": ""
            },
            "colorscale": [
             [
              0,
              "#0d0887"
             ],
             [
              0.1111111111111111,
              "#46039f"
             ],
             [
              0.2222222222222222,
              "#7201a8"
             ],
             [
              0.3333333333333333,
              "#9c179e"
             ],
             [
              0.4444444444444444,
              "#bd3786"
             ],
             [
              0.5555555555555556,
              "#d8576b"
             ],
             [
              0.6666666666666666,
              "#ed7953"
             ],
             [
              0.7777777777777778,
              "#fb9f3a"
             ],
             [
              0.8888888888888888,
              "#fdca26"
             ],
             [
              1,
              "#f0f921"
             ]
            ],
            "type": "histogram2d"
           }
          ],
          "histogram2dcontour": [
           {
            "colorbar": {
             "outlinewidth": 0,
             "ticks": ""
            },
            "colorscale": [
             [
              0,
              "#0d0887"
             ],
             [
              0.1111111111111111,
              "#46039f"
             ],
             [
              0.2222222222222222,
              "#7201a8"
             ],
             [
              0.3333333333333333,
              "#9c179e"
             ],
             [
              0.4444444444444444,
              "#bd3786"
             ],
             [
              0.5555555555555556,
              "#d8576b"
             ],
             [
              0.6666666666666666,
              "#ed7953"
             ],
             [
              0.7777777777777778,
              "#fb9f3a"
             ],
             [
              0.8888888888888888,
              "#fdca26"
             ],
             [
              1,
              "#f0f921"
             ]
            ],
            "type": "histogram2dcontour"
           }
          ],
          "mesh3d": [
           {
            "colorbar": {
             "outlinewidth": 0,
             "ticks": ""
            },
            "type": "mesh3d"
           }
          ],
          "parcoords": [
           {
            "line": {
             "colorbar": {
              "outlinewidth": 0,
              "ticks": ""
             }
            },
            "type": "parcoords"
           }
          ],
          "pie": [
           {
            "automargin": true,
            "type": "pie"
           }
          ],
          "scatter": [
           {
            "fillpattern": {
             "fillmode": "overlay",
             "size": 10,
             "solidity": 0.2
            },
            "type": "scatter"
           }
          ],
          "scatter3d": [
           {
            "line": {
             "colorbar": {
              "outlinewidth": 0,
              "ticks": ""
             }
            },
            "marker": {
             "colorbar": {
              "outlinewidth": 0,
              "ticks": ""
             }
            },
            "type": "scatter3d"
           }
          ],
          "scattercarpet": [
           {
            "marker": {
             "colorbar": {
              "outlinewidth": 0,
              "ticks": ""
             }
            },
            "type": "scattercarpet"
           }
          ],
          "scattergeo": [
           {
            "marker": {
             "colorbar": {
              "outlinewidth": 0,
              "ticks": ""
             }
            },
            "type": "scattergeo"
           }
          ],
          "scattergl": [
           {
            "marker": {
             "colorbar": {
              "outlinewidth": 0,
              "ticks": ""
             }
            },
            "type": "scattergl"
           }
          ],
          "scattermapbox": [
           {
            "marker": {
             "colorbar": {
              "outlinewidth": 0,
              "ticks": ""
             }
            },
            "type": "scattermapbox"
           }
          ],
          "scatterpolar": [
           {
            "marker": {
             "colorbar": {
              "outlinewidth": 0,
              "ticks": ""
             }
            },
            "type": "scatterpolar"
           }
          ],
          "scatterpolargl": [
           {
            "marker": {
             "colorbar": {
              "outlinewidth": 0,
              "ticks": ""
             }
            },
            "type": "scatterpolargl"
           }
          ],
          "scatterternary": [
           {
            "marker": {
             "colorbar": {
              "outlinewidth": 0,
              "ticks": ""
             }
            },
            "type": "scatterternary"
           }
          ],
          "surface": [
           {
            "colorbar": {
             "outlinewidth": 0,
             "ticks": ""
            },
            "colorscale": [
             [
              0,
              "#0d0887"
             ],
             [
              0.1111111111111111,
              "#46039f"
             ],
             [
              0.2222222222222222,
              "#7201a8"
             ],
             [
              0.3333333333333333,
              "#9c179e"
             ],
             [
              0.4444444444444444,
              "#bd3786"
             ],
             [
              0.5555555555555556,
              "#d8576b"
             ],
             [
              0.6666666666666666,
              "#ed7953"
             ],
             [
              0.7777777777777778,
              "#fb9f3a"
             ],
             [
              0.8888888888888888,
              "#fdca26"
             ],
             [
              1,
              "#f0f921"
             ]
            ],
            "type": "surface"
           }
          ],
          "table": [
           {
            "cells": {
             "fill": {
              "color": "#EBF0F8"
             },
             "line": {
              "color": "white"
             }
            },
            "header": {
             "fill": {
              "color": "#C8D4E3"
             },
             "line": {
              "color": "white"
             }
            },
            "type": "table"
           }
          ]
         },
         "layout": {
          "annotationdefaults": {
           "arrowcolor": "#2a3f5f",
           "arrowhead": 0,
           "arrowwidth": 1
          },
          "autotypenumbers": "strict",
          "coloraxis": {
           "colorbar": {
            "outlinewidth": 0,
            "ticks": ""
           }
          },
          "colorscale": {
           "diverging": [
            [
             0,
             "#8e0152"
            ],
            [
             0.1,
             "#c51b7d"
            ],
            [
             0.2,
             "#de77ae"
            ],
            [
             0.3,
             "#f1b6da"
            ],
            [
             0.4,
             "#fde0ef"
            ],
            [
             0.5,
             "#f7f7f7"
            ],
            [
             0.6,
             "#e6f5d0"
            ],
            [
             0.7,
             "#b8e186"
            ],
            [
             0.8,
             "#7fbc41"
            ],
            [
             0.9,
             "#4d9221"
            ],
            [
             1,
             "#276419"
            ]
           ],
           "sequential": [
            [
             0,
             "#0d0887"
            ],
            [
             0.1111111111111111,
             "#46039f"
            ],
            [
             0.2222222222222222,
             "#7201a8"
            ],
            [
             0.3333333333333333,
             "#9c179e"
            ],
            [
             0.4444444444444444,
             "#bd3786"
            ],
            [
             0.5555555555555556,
             "#d8576b"
            ],
            [
             0.6666666666666666,
             "#ed7953"
            ],
            [
             0.7777777777777778,
             "#fb9f3a"
            ],
            [
             0.8888888888888888,
             "#fdca26"
            ],
            [
             1,
             "#f0f921"
            ]
           ],
           "sequentialminus": [
            [
             0,
             "#0d0887"
            ],
            [
             0.1111111111111111,
             "#46039f"
            ],
            [
             0.2222222222222222,
             "#7201a8"
            ],
            [
             0.3333333333333333,
             "#9c179e"
            ],
            [
             0.4444444444444444,
             "#bd3786"
            ],
            [
             0.5555555555555556,
             "#d8576b"
            ],
            [
             0.6666666666666666,
             "#ed7953"
            ],
            [
             0.7777777777777778,
             "#fb9f3a"
            ],
            [
             0.8888888888888888,
             "#fdca26"
            ],
            [
             1,
             "#f0f921"
            ]
           ]
          },
          "colorway": [
           "#636efa",
           "#EF553B",
           "#00cc96",
           "#ab63fa",
           "#FFA15A",
           "#19d3f3",
           "#FF6692",
           "#B6E880",
           "#FF97FF",
           "#FECB52"
          ],
          "font": {
           "color": "#2a3f5f"
          },
          "geo": {
           "bgcolor": "white",
           "lakecolor": "white",
           "landcolor": "#E5ECF6",
           "showlakes": true,
           "showland": true,
           "subunitcolor": "white"
          },
          "hoverlabel": {
           "align": "left"
          },
          "hovermode": "closest",
          "mapbox": {
           "style": "light"
          },
          "paper_bgcolor": "white",
          "plot_bgcolor": "#E5ECF6",
          "polar": {
           "angularaxis": {
            "gridcolor": "white",
            "linecolor": "white",
            "ticks": ""
           },
           "bgcolor": "#E5ECF6",
           "radialaxis": {
            "gridcolor": "white",
            "linecolor": "white",
            "ticks": ""
           }
          },
          "scene": {
           "xaxis": {
            "backgroundcolor": "#E5ECF6",
            "gridcolor": "white",
            "gridwidth": 2,
            "linecolor": "white",
            "showbackground": true,
            "ticks": "",
            "zerolinecolor": "white"
           },
           "yaxis": {
            "backgroundcolor": "#E5ECF6",
            "gridcolor": "white",
            "gridwidth": 2,
            "linecolor": "white",
            "showbackground": true,
            "ticks": "",
            "zerolinecolor": "white"
           },
           "zaxis": {
            "backgroundcolor": "#E5ECF6",
            "gridcolor": "white",
            "gridwidth": 2,
            "linecolor": "white",
            "showbackground": true,
            "ticks": "",
            "zerolinecolor": "white"
           }
          },
          "shapedefaults": {
           "line": {
            "color": "#2a3f5f"
           }
          },
          "ternary": {
           "aaxis": {
            "gridcolor": "white",
            "linecolor": "white",
            "ticks": ""
           },
           "baxis": {
            "gridcolor": "white",
            "linecolor": "white",
            "ticks": ""
           },
           "bgcolor": "#E5ECF6",
           "caxis": {
            "gridcolor": "white",
            "linecolor": "white",
            "ticks": ""
           }
          },
          "title": {
           "x": 0.05
          },
          "xaxis": {
           "automargin": true,
           "gridcolor": "white",
           "linecolor": "white",
           "ticks": "",
           "title": {
            "standoff": 15
           },
           "zerolinecolor": "white",
           "zerolinewidth": 2
          },
          "yaxis": {
           "automargin": true,
           "gridcolor": "white",
           "linecolor": "white",
           "ticks": "",
           "title": {
            "standoff": 15
           },
           "zerolinecolor": "white",
           "zerolinewidth": 2
          }
         }
        },
        "xaxis": {
         "anchor": "y",
         "domain": [
          0,
          1
         ],
         "title": {
          "text": "gross income"
         }
        },
        "yaxis": {
         "anchor": "x",
         "domain": [
          0,
          1
         ],
         "title": {
          "text": "Payment"
         }
        }
       }
      },
      "text/html": [
       "<div>                        <script type=\"text/javascript\">window.PlotlyConfig = {MathJaxConfig: 'local'};</script>\n",
       "        <script charset=\"utf-8\" src=\"https://cdn.plot.ly/plotly-2.27.0.min.js\"></script>                <div id=\"b63f7bec-d9ae-45ce-be8b-16900afa259e\" class=\"plotly-graph-div\" style=\"height:100%; width:100%;\"></div>            <script type=\"text/javascript\">                                    window.PLOTLYENV=window.PLOTLYENV || {};                                    if (document.getElementById(\"b63f7bec-d9ae-45ce-be8b-16900afa259e\")) {                    Plotly.newPlot(                        \"b63f7bec-d9ae-45ce-be8b-16900afa259e\",                        [{\"alignmentgroup\":\"True\",\"hovertemplate\":\"gross income=%{x}\\u003cbr\\u003ePayment=%{y}\\u003cextra\\u003e\\u003c\\u002fextra\\u003e\",\"legendgroup\":\"\",\"marker\":{\"color\":\"#636efa\",\"pattern\":{\"shape\":\"\"}},\"name\":\"\",\"offsetgroup\":\"\",\"orientation\":\"h\",\"showlegend\":false,\"textposition\":\"auto\",\"x\":[5343.17,4798.432,5237.767],\"xaxis\":\"x\",\"y\":[\"Cash\",\"Credit card\",\"Ewallet\"],\"yaxis\":\"y\",\"type\":\"bar\"}],                        {\"template\":{\"data\":{\"histogram2dcontour\":[{\"type\":\"histogram2dcontour\",\"colorbar\":{\"outlinewidth\":0,\"ticks\":\"\"},\"colorscale\":[[0.0,\"#0d0887\"],[0.1111111111111111,\"#46039f\"],[0.2222222222222222,\"#7201a8\"],[0.3333333333333333,\"#9c179e\"],[0.4444444444444444,\"#bd3786\"],[0.5555555555555556,\"#d8576b\"],[0.6666666666666666,\"#ed7953\"],[0.7777777777777778,\"#fb9f3a\"],[0.8888888888888888,\"#fdca26\"],[1.0,\"#f0f921\"]]}],\"choropleth\":[{\"type\":\"choropleth\",\"colorbar\":{\"outlinewidth\":0,\"ticks\":\"\"}}],\"histogram2d\":[{\"type\":\"histogram2d\",\"colorbar\":{\"outlinewidth\":0,\"ticks\":\"\"},\"colorscale\":[[0.0,\"#0d0887\"],[0.1111111111111111,\"#46039f\"],[0.2222222222222222,\"#7201a8\"],[0.3333333333333333,\"#9c179e\"],[0.4444444444444444,\"#bd3786\"],[0.5555555555555556,\"#d8576b\"],[0.6666666666666666,\"#ed7953\"],[0.7777777777777778,\"#fb9f3a\"],[0.8888888888888888,\"#fdca26\"],[1.0,\"#f0f921\"]]}],\"heatmap\":[{\"type\":\"heatmap\",\"colorbar\":{\"outlinewidth\":0,\"ticks\":\"\"},\"colorscale\":[[0.0,\"#0d0887\"],[0.1111111111111111,\"#46039f\"],[0.2222222222222222,\"#7201a8\"],[0.3333333333333333,\"#9c179e\"],[0.4444444444444444,\"#bd3786\"],[0.5555555555555556,\"#d8576b\"],[0.6666666666666666,\"#ed7953\"],[0.7777777777777778,\"#fb9f3a\"],[0.8888888888888888,\"#fdca26\"],[1.0,\"#f0f921\"]]}],\"heatmapgl\":[{\"type\":\"heatmapgl\",\"colorbar\":{\"outlinewidth\":0,\"ticks\":\"\"},\"colorscale\":[[0.0,\"#0d0887\"],[0.1111111111111111,\"#46039f\"],[0.2222222222222222,\"#7201a8\"],[0.3333333333333333,\"#9c179e\"],[0.4444444444444444,\"#bd3786\"],[0.5555555555555556,\"#d8576b\"],[0.6666666666666666,\"#ed7953\"],[0.7777777777777778,\"#fb9f3a\"],[0.8888888888888888,\"#fdca26\"],[1.0,\"#f0f921\"]]}],\"contourcarpet\":[{\"type\":\"contourcarpet\",\"colorbar\":{\"outlinewidth\":0,\"ticks\":\"\"}}],\"contour\":[{\"type\":\"contour\",\"colorbar\":{\"outlinewidth\":0,\"ticks\":\"\"},\"colorscale\":[[0.0,\"#0d0887\"],[0.1111111111111111,\"#46039f\"],[0.2222222222222222,\"#7201a8\"],[0.3333333333333333,\"#9c179e\"],[0.4444444444444444,\"#bd3786\"],[0.5555555555555556,\"#d8576b\"],[0.6666666666666666,\"#ed7953\"],[0.7777777777777778,\"#fb9f3a\"],[0.8888888888888888,\"#fdca26\"],[1.0,\"#f0f921\"]]}],\"surface\":[{\"type\":\"surface\",\"colorbar\":{\"outlinewidth\":0,\"ticks\":\"\"},\"colorscale\":[[0.0,\"#0d0887\"],[0.1111111111111111,\"#46039f\"],[0.2222222222222222,\"#7201a8\"],[0.3333333333333333,\"#9c179e\"],[0.4444444444444444,\"#bd3786\"],[0.5555555555555556,\"#d8576b\"],[0.6666666666666666,\"#ed7953\"],[0.7777777777777778,\"#fb9f3a\"],[0.8888888888888888,\"#fdca26\"],[1.0,\"#f0f921\"]]}],\"mesh3d\":[{\"type\":\"mesh3d\",\"colorbar\":{\"outlinewidth\":0,\"ticks\":\"\"}}],\"scatter\":[{\"fillpattern\":{\"fillmode\":\"overlay\",\"size\":10,\"solidity\":0.2},\"type\":\"scatter\"}],\"parcoords\":[{\"type\":\"parcoords\",\"line\":{\"colorbar\":{\"outlinewidth\":0,\"ticks\":\"\"}}}],\"scatterpolargl\":[{\"type\":\"scatterpolargl\",\"marker\":{\"colorbar\":{\"outlinewidth\":0,\"ticks\":\"\"}}}],\"bar\":[{\"error_x\":{\"color\":\"#2a3f5f\"},\"error_y\":{\"color\":\"#2a3f5f\"},\"marker\":{\"line\":{\"color\":\"#E5ECF6\",\"width\":0.5},\"pattern\":{\"fillmode\":\"overlay\",\"size\":10,\"solidity\":0.2}},\"type\":\"bar\"}],\"scattergeo\":[{\"type\":\"scattergeo\",\"marker\":{\"colorbar\":{\"outlinewidth\":0,\"ticks\":\"\"}}}],\"scatterpolar\":[{\"type\":\"scatterpolar\",\"marker\":{\"colorbar\":{\"outlinewidth\":0,\"ticks\":\"\"}}}],\"histogram\":[{\"marker\":{\"pattern\":{\"fillmode\":\"overlay\",\"size\":10,\"solidity\":0.2}},\"type\":\"histogram\"}],\"scattergl\":[{\"type\":\"scattergl\",\"marker\":{\"colorbar\":{\"outlinewidth\":0,\"ticks\":\"\"}}}],\"scatter3d\":[{\"type\":\"scatter3d\",\"line\":{\"colorbar\":{\"outlinewidth\":0,\"ticks\":\"\"}},\"marker\":{\"colorbar\":{\"outlinewidth\":0,\"ticks\":\"\"}}}],\"scattermapbox\":[{\"type\":\"scattermapbox\",\"marker\":{\"colorbar\":{\"outlinewidth\":0,\"ticks\":\"\"}}}],\"scatterternary\":[{\"type\":\"scatterternary\",\"marker\":{\"colorbar\":{\"outlinewidth\":0,\"ticks\":\"\"}}}],\"scattercarpet\":[{\"type\":\"scattercarpet\",\"marker\":{\"colorbar\":{\"outlinewidth\":0,\"ticks\":\"\"}}}],\"carpet\":[{\"aaxis\":{\"endlinecolor\":\"#2a3f5f\",\"gridcolor\":\"white\",\"linecolor\":\"white\",\"minorgridcolor\":\"white\",\"startlinecolor\":\"#2a3f5f\"},\"baxis\":{\"endlinecolor\":\"#2a3f5f\",\"gridcolor\":\"white\",\"linecolor\":\"white\",\"minorgridcolor\":\"white\",\"startlinecolor\":\"#2a3f5f\"},\"type\":\"carpet\"}],\"table\":[{\"cells\":{\"fill\":{\"color\":\"#EBF0F8\"},\"line\":{\"color\":\"white\"}},\"header\":{\"fill\":{\"color\":\"#C8D4E3\"},\"line\":{\"color\":\"white\"}},\"type\":\"table\"}],\"barpolar\":[{\"marker\":{\"line\":{\"color\":\"#E5ECF6\",\"width\":0.5},\"pattern\":{\"fillmode\":\"overlay\",\"size\":10,\"solidity\":0.2}},\"type\":\"barpolar\"}],\"pie\":[{\"automargin\":true,\"type\":\"pie\"}]},\"layout\":{\"autotypenumbers\":\"strict\",\"colorway\":[\"#636efa\",\"#EF553B\",\"#00cc96\",\"#ab63fa\",\"#FFA15A\",\"#19d3f3\",\"#FF6692\",\"#B6E880\",\"#FF97FF\",\"#FECB52\"],\"font\":{\"color\":\"#2a3f5f\"},\"hovermode\":\"closest\",\"hoverlabel\":{\"align\":\"left\"},\"paper_bgcolor\":\"white\",\"plot_bgcolor\":\"#E5ECF6\",\"polar\":{\"bgcolor\":\"#E5ECF6\",\"angularaxis\":{\"gridcolor\":\"white\",\"linecolor\":\"white\",\"ticks\":\"\"},\"radialaxis\":{\"gridcolor\":\"white\",\"linecolor\":\"white\",\"ticks\":\"\"}},\"ternary\":{\"bgcolor\":\"#E5ECF6\",\"aaxis\":{\"gridcolor\":\"white\",\"linecolor\":\"white\",\"ticks\":\"\"},\"baxis\":{\"gridcolor\":\"white\",\"linecolor\":\"white\",\"ticks\":\"\"},\"caxis\":{\"gridcolor\":\"white\",\"linecolor\":\"white\",\"ticks\":\"\"}},\"coloraxis\":{\"colorbar\":{\"outlinewidth\":0,\"ticks\":\"\"}},\"colorscale\":{\"sequential\":[[0.0,\"#0d0887\"],[0.1111111111111111,\"#46039f\"],[0.2222222222222222,\"#7201a8\"],[0.3333333333333333,\"#9c179e\"],[0.4444444444444444,\"#bd3786\"],[0.5555555555555556,\"#d8576b\"],[0.6666666666666666,\"#ed7953\"],[0.7777777777777778,\"#fb9f3a\"],[0.8888888888888888,\"#fdca26\"],[1.0,\"#f0f921\"]],\"sequentialminus\":[[0.0,\"#0d0887\"],[0.1111111111111111,\"#46039f\"],[0.2222222222222222,\"#7201a8\"],[0.3333333333333333,\"#9c179e\"],[0.4444444444444444,\"#bd3786\"],[0.5555555555555556,\"#d8576b\"],[0.6666666666666666,\"#ed7953\"],[0.7777777777777778,\"#fb9f3a\"],[0.8888888888888888,\"#fdca26\"],[1.0,\"#f0f921\"]],\"diverging\":[[0,\"#8e0152\"],[0.1,\"#c51b7d\"],[0.2,\"#de77ae\"],[0.3,\"#f1b6da\"],[0.4,\"#fde0ef\"],[0.5,\"#f7f7f7\"],[0.6,\"#e6f5d0\"],[0.7,\"#b8e186\"],[0.8,\"#7fbc41\"],[0.9,\"#4d9221\"],[1,\"#276419\"]]},\"xaxis\":{\"gridcolor\":\"white\",\"linecolor\":\"white\",\"ticks\":\"\",\"title\":{\"standoff\":15},\"zerolinecolor\":\"white\",\"automargin\":true,\"zerolinewidth\":2},\"yaxis\":{\"gridcolor\":\"white\",\"linecolor\":\"white\",\"ticks\":\"\",\"title\":{\"standoff\":15},\"zerolinecolor\":\"white\",\"automargin\":true,\"zerolinewidth\":2},\"scene\":{\"xaxis\":{\"backgroundcolor\":\"#E5ECF6\",\"gridcolor\":\"white\",\"linecolor\":\"white\",\"showbackground\":true,\"ticks\":\"\",\"zerolinecolor\":\"white\",\"gridwidth\":2},\"yaxis\":{\"backgroundcolor\":\"#E5ECF6\",\"gridcolor\":\"white\",\"linecolor\":\"white\",\"showbackground\":true,\"ticks\":\"\",\"zerolinecolor\":\"white\",\"gridwidth\":2},\"zaxis\":{\"backgroundcolor\":\"#E5ECF6\",\"gridcolor\":\"white\",\"linecolor\":\"white\",\"showbackground\":true,\"ticks\":\"\",\"zerolinecolor\":\"white\",\"gridwidth\":2}},\"shapedefaults\":{\"line\":{\"color\":\"#2a3f5f\"}},\"annotationdefaults\":{\"arrowcolor\":\"#2a3f5f\",\"arrowhead\":0,\"arrowwidth\":1},\"geo\":{\"bgcolor\":\"white\",\"landcolor\":\"#E5ECF6\",\"subunitcolor\":\"white\",\"showland\":true,\"showlakes\":true,\"lakecolor\":\"white\"},\"title\":{\"x\":0.05},\"mapbox\":{\"style\":\"light\"}}},\"xaxis\":{\"anchor\":\"y\",\"domain\":[0.0,1.0],\"title\":{\"text\":\"gross income\"}},\"yaxis\":{\"anchor\":\"x\",\"domain\":[0.0,1.0],\"title\":{\"text\":\"Payment\"}},\"legend\":{\"tracegroupgap\":0},\"margin\":{\"t\":60},\"barmode\":\"relative\"},                        {\"responsive\": true}                    )                };                            </script>        </div>"
      ],
      "text/plain": [
       "Figure({\n",
       "    'data': [{'alignmentgroup': 'True',\n",
       "              'hovertemplate': 'gross income=%{x}<br>Payment=%{y}<extra></extra>',\n",
       "              'legendgroup': '',\n",
       "              'marker': {'color': '#636efa', 'pattern': {'shape': ''}},\n",
       "              'name': '',\n",
       "              'offsetgroup': '',\n",
       "              'orientation': 'h',\n",
       "              'showlegend': False,\n",
       "              'textposition': 'auto',\n",
       "              'type': 'bar',\n",
       "              'x': array([5343.17 , 4798.432, 5237.767]),\n",
       "              'xaxis': 'x',\n",
       "              'y': array(['Cash', 'Credit card', 'Ewallet'], dtype=object),\n",
       "              'yaxis': 'y'}],\n",
       "    'layout': {'barmode': 'relative',\n",
       "               'legend': {'tracegroupgap': 0},\n",
       "               'margin': {'t': 60},\n",
       "               'template': '...',\n",
       "               'xaxis': {'anchor': 'y', 'domain': [0.0, 1.0], 'title': {'text': 'gross income'}},\n",
       "               'yaxis': {'anchor': 'x', 'domain': [0.0, 1.0], 'title': {'text': 'Payment'}}}\n",
       "})"
      ]
     },
     "execution_count": 66,
     "metadata": {},
     "output_type": "execute_result"
    }
   ],
   "source": [
    "pay_fig"
   ]
  },
  {
   "cell_type": "code",
   "execution_count": null,
   "metadata": {},
   "outputs": [],
   "source": []
  }
 ],
 "metadata": {
  "kernelspec": {
   "display_name": "venv",
   "language": "python",
   "name": "python3"
  },
  "language_info": {
   "codemirror_mode": {
    "name": "ipython",
    "version": 3
   },
   "file_extension": ".py",
   "mimetype": "text/x-python",
   "name": "python",
   "nbconvert_exporter": "python",
   "pygments_lexer": "ipython3",
   "version": "3.11.5"
  }
 },
 "nbformat": 4,
 "nbformat_minor": 2
}
